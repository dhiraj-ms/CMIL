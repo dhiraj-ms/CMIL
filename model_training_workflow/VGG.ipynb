{
 "cells": [
  {
   "cell_type": "code",
   "execution_count": 12,
   "id": "556780e4-b96a-43a4-9d66-cafed6e244f9",
   "metadata": {
    "editable": true,
    "slideshow": {
     "slide_type": ""
    },
    "tags": []
   },
   "outputs": [],
   "source": [
    "import tensorflow as tf\n",
    "from tensorflow.keras import layers, models\n",
    "from tensorflow.keras.applications import VGG16\n",
    "from tensorflow.keras.preprocessing.image import ImageDataGenerator\n",
    "from tensorflow.keras.optimizers import Adam\n",
    "from tensorflow.keras.callbacks import EarlyStopping\n",
    "import pandas as pd\n",
    "import tensorflow as tf\n",
    "from sklearn.model_selection import train_test_split\n",
    "from tensorflow.keras.preprocessing.image import ImageDataGenerator\n",
    "from tensorflow.keras.applications import VGG16\n",
    "from tensorflow.keras.optimizers import Adam\n",
    "import pandas as pd\n",
    "import os\n",
    "import splitfolders\n",
    "import shutil\n",
    "from sklearn.metrics import classification_report\n",
    "import numpy as np"
   ]
  },
  {
   "cell_type": "code",
   "execution_count": 2,
   "id": "d61506da-8584-4d2e-852e-bcb2063f7748",
   "metadata": {},
   "outputs": [],
   "source": [
    "image_size = (224, 224) \n",
    "batch_size = 32\n",
    "epochs = 50\n",
    "num_classes = 2\n"
   ]
  },
  {
   "cell_type": "code",
   "execution_count": 3,
   "id": "608c9c51-a679-413a-8e66-be0566030f9e",
   "metadata": {},
   "outputs": [],
   "source": [
    "base_model = VGG16(weights='imagenet', include_top=False, input_shape=(image_size[0], image_size[1], 3))\n",
    "\n",
    "for layer in base_model.layers:\n",
    "    layer.trainable = False\n",
    "\n",
    "model = models.Sequential()\n",
    "model.add(base_model)  \n",
    "model.add(layers.Flatten())  \n",
    "model.add(layers.Dense(256, activation='relu'))  \n",
    "model.add(layers.Dropout(0.5))  \n",
    "model.add(layers.Dense(num_classes, activation='softmax')) \n",
    "\n",
    "\n",
    "model.compile(optimizer=Adam(learning_rate=1e-4),\n",
    "              loss='categorical_crossentropy',  \n",
    "              metrics=['accuracy'])"
   ]
  },
  {
   "cell_type": "code",
   "execution_count": 4,
   "id": "e982b1f2-e857-4f3e-bc72-790d387349d7",
   "metadata": {},
   "outputs": [],
   "source": [
    "img_directory = 'public/public/'  #image directory where two folders are available each folder representing a class"
   ]
  },
  {
   "cell_type": "code",
   "execution_count": 5,
   "id": "31b674ce-e9f1-4b38-b4ec-1559a356f8f2",
   "metadata": {},
   "outputs": [],
   "source": [
    "output_dir = 'output_split/'  #directory where split fodlers will be saved\n",
    "folders = ['globally_sclerotic_glomeruli', 'non_globally_sclerotic_glomeruli']\n"
   ]
  },
  {
   "cell_type": "code",
   "execution_count": 6,
   "id": "cb531012-3969-4a5d-a109-2ff42031c2aa",
   "metadata": {},
   "outputs": [],
   "source": [
    "train_dir = os.path.join(output_dir, 'train')\n",
    "val_dir = os.path.join(output_dir, 'val')\n",
    "test_dir = os.path.join(output_dir, 'test')\n",
    "\n",
    "for folder in folders:\n",
    "    os.makedirs(os.path.join(train_dir, folder), exist_ok=True)\n",
    "    os.makedirs(os.path.join(val_dir, folder), exist_ok=True)\n",
    "    os.makedirs(os.path.join(test_dir, folder), exist_ok=True)\n"
   ]
  },
  {
   "cell_type": "code",
   "execution_count": 7,
   "id": "e3a2cee1-6d3c-45b9-92d3-dfc748cd0ef3",
   "metadata": {},
   "outputs": [],
   "source": [
    "for folder in folders:\n",
    "    full_path = os.path.join(img_directory, folder)\n",
    "    images = os.listdir(full_path)\n",
    "    \n",
    "   \n",
    "    train_images, test_images = train_test_split(images, test_size=0.2, random_state=42)\n",
    "    val_images, test_images = train_test_split(test_images, test_size=0.5, random_state=42)\n",
    "    \n",
    "   \n",
    "    for image in train_images:\n",
    "        shutil.copy(os.path.join(full_path, image), os.path.join(train_dir, folder, image))\n",
    "        \n",
    "    for image in val_images:\n",
    "        shutil.copy(os.path.join(full_path, image), os.path.join(val_dir, folder, image))\n",
    "        \n",
    "    for image in test_images:\n",
    "        shutil.copy(os.path.join(full_path, image), os.path.join(test_dir, folder, image))\n"
   ]
  },
  {
   "cell_type": "code",
   "execution_count": 8,
   "id": "84775b8d-2287-4963-8b94-d07d8c426cf4",
   "metadata": {},
   "outputs": [
    {
     "name": "stdout",
     "output_type": "stream",
     "text": [
      "Found 4606 images belonging to 2 classes.\n",
      "Found 575 images belonging to 2 classes.\n",
      "Found 577 images belonging to 2 classes.\n"
     ]
    }
   ],
   "source": [
    "train_dir = 'output_split/train' #path of train folder, will have subdirectories of two classes\n",
    "val_dir = 'output_split/val' #path of val folder, will have subdirectories of two classes\n",
    "test_dir = 'output_split/test' #path of test folder, will have subdirectories of two classes\n",
    "\n",
    "\n",
    "train_datagen = ImageDataGenerator(rescale=1.0/255.0)\n",
    "\n",
    "val_test_datagen = ImageDataGenerator(rescale=1.0/255.0)\n",
    "\n",
    "\n",
    "train_generator = train_datagen.flow_from_directory(\n",
    "    train_dir,\n",
    "    target_size=image_size,\n",
    "    batch_size=batch_size,\n",
    "    class_mode='categorical',\n",
    "    shuffle=True,\n",
    "    classes={'non_globally_sclerotic_glomeruli': 0, 'globally_sclerotic_glomeruli': 1}  \n",
    ")\n",
    "\n",
    "\n",
    "val_generator = val_test_datagen.flow_from_directory(\n",
    "    val_dir,\n",
    "    target_size=image_size,\n",
    "    batch_size=batch_size,\n",
    "    class_mode='categorical',\n",
    "    shuffle=False,\n",
    "    classes={'non_globally_sclerotic_glomeruli': 0, 'globally_sclerotic_glomeruli': 1}  \n",
    ")\n",
    "\n",
    "\n",
    "test_generator = val_test_datagen.flow_from_directory(\n",
    "    test_dir,\n",
    "    target_size=image_size,\n",
    "    batch_size=batch_size,\n",
    "    class_mode='categorical',\n",
    "    shuffle=False,\n",
    "    classes={'non_globally_sclerotic_glomeruli': 0, 'globally_sclerotic_glomeruli': 1}  \n",
    ")"
   ]
  },
  {
   "cell_type": "code",
   "execution_count": 9,
   "id": "ba0225d0-128a-41f9-b82a-b47516e321cc",
   "metadata": {},
   "outputs": [
    {
     "name": "stdout",
     "output_type": "stream",
     "text": [
      "Epoch 1/50\n",
      "144/144 [==============================] - 348s 2s/step - loss: 0.2221 - accuracy: 0.9066 - val_loss: 0.1428 - val_accuracy: 0.9357\n",
      "Epoch 2/50\n",
      "144/144 [==============================] - 317s 2s/step - loss: 0.1083 - accuracy: 0.9574 - val_loss: 0.1002 - val_accuracy: 0.9600\n",
      "Epoch 3/50\n",
      "144/144 [==============================] - 320s 2s/step - loss: 0.0735 - accuracy: 0.9742 - val_loss: 0.0775 - val_accuracy: 0.9687\n",
      "Epoch 4/50\n",
      "144/144 [==============================] - 340s 2s/step - loss: 0.0519 - accuracy: 0.9822 - val_loss: 0.0721 - val_accuracy: 0.9687\n",
      "Epoch 5/50\n",
      "144/144 [==============================] - 337s 2s/step - loss: 0.0424 - accuracy: 0.9857 - val_loss: 0.0753 - val_accuracy: 0.9687\n",
      "Epoch 6/50\n",
      "144/144 [==============================] - 336s 2s/step - loss: 0.0333 - accuracy: 0.9900 - val_loss: 0.1148 - val_accuracy: 0.9583\n",
      "Epoch 7/50\n",
      "144/144 [==============================] - 341s 2s/step - loss: 0.0271 - accuracy: 0.9917 - val_loss: 0.0920 - val_accuracy: 0.9652\n",
      "Epoch 8/50\n",
      "144/144 [==============================] - 328s 2s/step - loss: 0.0209 - accuracy: 0.9948 - val_loss: 0.0930 - val_accuracy: 0.9670\n",
      "Epoch 9/50\n",
      "144/144 [==============================] - 308s 2s/step - loss: 0.0151 - accuracy: 0.9967 - val_loss: 0.0889 - val_accuracy: 0.9652\n",
      "Epoch 10/50\n",
      "144/144 [==============================] - 307s 2s/step - loss: 0.0116 - accuracy: 0.9987 - val_loss: 0.0996 - val_accuracy: 0.9670\n",
      "Epoch 11/50\n",
      "144/144 [==============================] - 302s 2s/step - loss: 0.0122 - accuracy: 0.9978 - val_loss: 0.0772 - val_accuracy: 0.9687\n",
      "Epoch 12/50\n",
      "144/144 [==============================] - 305s 2s/step - loss: 0.0127 - accuracy: 0.9976 - val_loss: 0.0799 - val_accuracy: 0.9652\n",
      "Epoch 13/50\n",
      "144/144 [==============================] - 313s 2s/step - loss: 0.0070 - accuracy: 0.9991 - val_loss: 0.0779 - val_accuracy: 0.9704\n",
      "Epoch 14/50\n",
      "144/144 [==============================] - 316s 2s/step - loss: 0.0067 - accuracy: 0.9985 - val_loss: 0.1046 - val_accuracy: 0.9687\n",
      "Epoch 15/50\n",
      "144/144 [==============================] - 316s 2s/step - loss: 0.0052 - accuracy: 0.9996 - val_loss: 0.1287 - val_accuracy: 0.9635\n",
      "Epoch 16/50\n",
      "144/144 [==============================] - 315s 2s/step - loss: 0.0048 - accuracy: 0.9993 - val_loss: 0.0852 - val_accuracy: 0.9739\n",
      "Epoch 17/50\n",
      "144/144 [==============================] - 315s 2s/step - loss: 0.0037 - accuracy: 0.9998 - val_loss: 0.0911 - val_accuracy: 0.9704\n",
      "Epoch 18/50\n",
      "144/144 [==============================] - 315s 2s/step - loss: 0.0039 - accuracy: 0.9996 - val_loss: 0.1109 - val_accuracy: 0.9687\n",
      "Epoch 19/50\n",
      "144/144 [==============================] - 330s 2s/step - loss: 0.0030 - accuracy: 0.9998 - val_loss: 0.0844 - val_accuracy: 0.9704\n",
      "Epoch 20/50\n",
      "144/144 [==============================] - 321s 2s/step - loss: 0.0023 - accuracy: 1.0000 - val_loss: 0.0974 - val_accuracy: 0.9704\n",
      "Epoch 21/50\n",
      "144/144 [==============================] - 319s 2s/step - loss: 0.0052 - accuracy: 0.9991 - val_loss: 0.0964 - val_accuracy: 0.9687\n",
      "Epoch 22/50\n",
      "144/144 [==============================] - 327s 2s/step - loss: 0.0025 - accuracy: 1.0000 - val_loss: 0.0900 - val_accuracy: 0.9670\n",
      "Epoch 23/50\n",
      "144/144 [==============================] - 329s 2s/step - loss: 0.0031 - accuracy: 0.9993 - val_loss: 0.0899 - val_accuracy: 0.9722\n",
      "Epoch 24/50\n",
      "144/144 [==============================] - 323s 2s/step - loss: 0.0018 - accuracy: 1.0000 - val_loss: 0.1054 - val_accuracy: 0.9670\n",
      "Epoch 25/50\n",
      "144/144 [==============================] - 322s 2s/step - loss: 0.0015 - accuracy: 1.0000 - val_loss: 0.1094 - val_accuracy: 0.9687\n",
      "Epoch 26/50\n",
      "144/144 [==============================] - 328s 2s/step - loss: 0.0014 - accuracy: 1.0000 - val_loss: 0.1050 - val_accuracy: 0.9687\n",
      "Epoch 27/50\n",
      "144/144 [==============================] - 333s 2s/step - loss: 0.0010 - accuracy: 1.0000 - val_loss: 0.1125 - val_accuracy: 0.9704\n",
      "Epoch 28/50\n",
      "144/144 [==============================] - 330s 2s/step - loss: 0.0014 - accuracy: 1.0000 - val_loss: 0.1396 - val_accuracy: 0.9670\n",
      "Epoch 29/50\n",
      "144/144 [==============================] - 335s 2s/step - loss: 0.0012 - accuracy: 1.0000 - val_loss: 0.1186 - val_accuracy: 0.9670\n",
      "Epoch 30/50\n",
      "144/144 [==============================] - 334s 2s/step - loss: 0.0010 - accuracy: 1.0000 - val_loss: 0.1283 - val_accuracy: 0.9670\n",
      "Epoch 31/50\n",
      "144/144 [==============================] - 324s 2s/step - loss: 0.0042 - accuracy: 0.9991 - val_loss: 0.2648 - val_accuracy: 0.9426\n",
      "Epoch 32/50\n",
      "144/144 [==============================] - 326s 2s/step - loss: 0.0372 - accuracy: 0.9883 - val_loss: 0.0749 - val_accuracy: 0.9670\n",
      "Epoch 33/50\n",
      "144/144 [==============================] - 334s 2s/step - loss: 0.0105 - accuracy: 0.9974 - val_loss: 0.0846 - val_accuracy: 0.9739\n",
      "Epoch 34/50\n",
      "144/144 [==============================] - 385s 3s/step - loss: 0.0050 - accuracy: 1.0000 - val_loss: 0.1007 - val_accuracy: 0.9687\n",
      "Epoch 35/50\n",
      "144/144 [==============================] - 371s 3s/step - loss: 0.0041 - accuracy: 0.9998 - val_loss: 0.0798 - val_accuracy: 0.9687\n",
      "Epoch 36/50\n",
      "144/144 [==============================] - 377s 3s/step - loss: 0.0027 - accuracy: 0.9998 - val_loss: 0.1003 - val_accuracy: 0.9704\n",
      "Epoch 37/50\n",
      "144/144 [==============================] - 347s 2s/step - loss: 0.0028 - accuracy: 0.9998 - val_loss: 0.0986 - val_accuracy: 0.9722\n",
      "Epoch 38/50\n",
      "144/144 [==============================] - 331s 2s/step - loss: 0.0024 - accuracy: 1.0000 - val_loss: 0.0943 - val_accuracy: 0.9739\n",
      "Epoch 39/50\n",
      "144/144 [==============================] - 320s 2s/step - loss: 0.0020 - accuracy: 1.0000 - val_loss: 0.1057 - val_accuracy: 0.9722\n",
      "Epoch 40/50\n",
      "144/144 [==============================] - 339s 2s/step - loss: 0.0020 - accuracy: 1.0000 - val_loss: 0.1555 - val_accuracy: 0.9600\n",
      "Epoch 41/50\n",
      "144/144 [==============================] - 349s 2s/step - loss: 0.0019 - accuracy: 1.0000 - val_loss: 0.1109 - val_accuracy: 0.9704\n",
      "Epoch 42/50\n",
      "144/144 [==============================] - 333s 2s/step - loss: 0.0011 - accuracy: 0.9998 - val_loss: 0.1087 - val_accuracy: 0.9704\n",
      "Epoch 43/50\n",
      "144/144 [==============================] - 321s 2s/step - loss: 7.3679e-04 - accuracy: 1.0000 - val_loss: 0.1041 - val_accuracy: 0.9722\n",
      "Epoch 44/50\n",
      "144/144 [==============================] - 329s 2s/step - loss: 5.8955e-04 - accuracy: 1.0000 - val_loss: 0.0895 - val_accuracy: 0.9687\n",
      "Epoch 45/50\n",
      "144/144 [==============================] - 323s 2s/step - loss: 5.7695e-04 - accuracy: 1.0000 - val_loss: 0.1006 - val_accuracy: 0.9704\n",
      "Epoch 46/50\n",
      "144/144 [==============================] - 328s 2s/step - loss: 9.2662e-04 - accuracy: 1.0000 - val_loss: 0.1243 - val_accuracy: 0.9687\n",
      "Epoch 47/50\n",
      "144/144 [==============================] - 338s 2s/step - loss: 0.0015 - accuracy: 0.9998 - val_loss: 0.0869 - val_accuracy: 0.9670\n",
      "Epoch 48/50\n",
      "144/144 [==============================] - 330s 2s/step - loss: 9.1663e-04 - accuracy: 1.0000 - val_loss: 0.1083 - val_accuracy: 0.9704\n",
      "Epoch 49/50\n",
      "144/144 [==============================] - 333s 2s/step - loss: 0.0024 - accuracy: 0.9993 - val_loss: 0.1034 - val_accuracy: 0.9670\n",
      "Epoch 50/50\n",
      "144/144 [==============================] - 323s 2s/step - loss: 0.0014 - accuracy: 1.0000 - val_loss: 0.1136 - val_accuracy: 0.9739\n"
     ]
    }
   ],
   "source": [
    "history = model.fit(\n",
    "    train_generator,\n",
    "    epochs=epochs,\n",
    "    validation_data=val_generator\n",
    ")"
   ]
  },
  {
   "cell_type": "code",
   "execution_count": 10,
   "id": "1707d054-920a-41ec-977e-4a89ccef5d74",
   "metadata": {},
   "outputs": [],
   "source": [
    "model.save('vgg16_model.h5') #save the model weight"
   ]
  },
  {
   "cell_type": "code",
   "execution_count": 13,
   "id": "1f66dc0e-a58a-4522-951a-684d78e7db29",
   "metadata": {},
   "outputs": [
    {
     "name": "stdout",
     "output_type": "stream",
     "text": [
      "19/19 [==============================] - 21s 1s/step - loss: 0.0958 - accuracy: 0.9723\n",
      "               precision    recall  f1-score   support\n",
      "\n",
      "non_sclerotic       0.98      0.99      0.98       471\n",
      "    sclerotic       0.95      0.90      0.92       106\n",
      "\n",
      "     accuracy                           0.97       577\n",
      "    macro avg       0.96      0.94      0.95       577\n",
      " weighted avg       0.97      0.97      0.97       577\n",
      "\n"
     ]
    }
   ],
   "source": [
    "test_loss, test_acc = model.evaluate(test_generator)\n",
    "\n",
    "predictions = model.predict(test_generator)\n",
    "y_pred = np.argmax(predictions, axis=1)\n",
    "\n",
    "y_true = test_generator.classes\n",
    "\n",
    "print(classification_report(y_true, y_pred, target_names=['non_sclerotic', 'sclerotic']))"
   ]
  },
  {
   "cell_type": "code",
   "execution_count": null,
   "id": "aad0e7e9-34b3-47a2-a874-7ab1fa2173cd",
   "metadata": {},
   "outputs": [],
   "source": []
  },
  {
   "cell_type": "code",
   "execution_count": null,
   "id": "85e715ad-330b-4063-866c-583ce05aa335",
   "metadata": {
    "editable": true,
    "slideshow": {
     "slide_type": ""
    },
    "tags": []
   },
   "outputs": [],
   "source": []
  },
  {
   "cell_type": "code",
   "execution_count": null,
   "id": "a172aa46-fd84-4e5b-a8b9-160c2aed8d6c",
   "metadata": {},
   "outputs": [],
   "source": []
  },
  {
   "cell_type": "code",
   "execution_count": null,
   "id": "85475874-a02f-4d6e-8bc5-72438574934d",
   "metadata": {},
   "outputs": [],
   "source": []
  },
  {
   "cell_type": "code",
   "execution_count": null,
   "id": "db6ccfed-af20-4a0e-b9ce-629fc89d0454",
   "metadata": {},
   "outputs": [],
   "source": []
  },
  {
   "cell_type": "code",
   "execution_count": null,
   "id": "00166eb0-da6f-470a-a21f-5f14b418f3f0",
   "metadata": {},
   "outputs": [],
   "source": []
  }
 ],
 "metadata": {
  "kernelspec": {
   "display_name": "Python 3 (ipykernel)",
   "language": "python",
   "name": "python3"
  },
  "language_info": {
   "codemirror_mode": {
    "name": "ipython",
    "version": 3
   },
   "file_extension": ".py",
   "mimetype": "text/x-python",
   "name": "python",
   "nbconvert_exporter": "python",
   "pygments_lexer": "ipython3",
   "version": "3.8.20"
  }
 },
 "nbformat": 4,
 "nbformat_minor": 5
}
