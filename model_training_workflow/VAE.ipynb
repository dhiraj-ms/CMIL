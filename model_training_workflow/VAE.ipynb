{
 "cells": [
  {
   "cell_type": "code",
   "execution_count": 95,
   "id": "b294a8df-eadb-414d-ae43-f4cc2060f534",
   "metadata": {
    "editable": true,
    "slideshow": {
     "slide_type": ""
    },
    "tags": []
   },
   "outputs": [],
   "source": [
    "import os\n",
    "import pandas as pd\n",
    "import numpy as np\n",
    "import cv2\n",
    "from keras import backend as K\n",
    "from keras.layers import Input, Dense, Lambda, Convolution2D, MaxPooling2D, GlobalAveragePooling2D, UpSampling2D, Reshape, Flatten\n",
    "from keras.models import Model\n",
    "from keras.utils import to_categorical\n",
    "from sklearn.model_selection import StratifiedShuffleSplit, StratifiedKFold\n",
    "from sklearn.metrics import precision_score, recall_score, f1_score, roc_auc_score\n",
    "from sklearn.utils import class_weight\n",
    "import tensorflow as tf\n",
    "import optuna\n",
    "import mlflow\n",
    "from mlflow.models import infer_signature\n",
    "\n",
    "tf.compat.v1.disable_eager_execution()"
   ]
  },
  {
   "cell_type": "code",
   "execution_count": 2,
   "id": "f08edcb1-50d6-40b5-ad78-7325da845688",
   "metadata": {},
   "outputs": [
    {
     "data": {
      "text/plain": [
       "'C:\\\\Users\\\\admin\\\\Downloads'"
      ]
     },
     "execution_count": 2,
     "metadata": {},
     "output_type": "execute_result"
    }
   ],
   "source": [
    "pwd"
   ]
  },
  {
   "cell_type": "code",
   "execution_count": 3,
   "id": "189680b3-ba4b-4eca-ae39-2a3e40268139",
   "metadata": {},
   "outputs": [],
   "source": [
    "groundtruth_file_path = \"public/public.csv\"  #path of csv file"
   ]
  },
  {
   "cell_type": "code",
   "execution_count": 4,
   "id": "bbb0e860-fe8a-4cce-86c5-ef5b326adafe",
   "metadata": {},
   "outputs": [],
   "source": [
    "groundtruth_df = pd.read_csv(groundtruth_file_path)\n"
   ]
  },
  {
   "cell_type": "code",
   "execution_count": 5,
   "id": "fb280c83-f395-45fc-92ab-5184f4f2af37",
   "metadata": {},
   "outputs": [
    {
     "data": {
      "text/html": [
       "<div>\n",
       "<style scoped>\n",
       "    .dataframe tbody tr th:only-of-type {\n",
       "        vertical-align: middle;\n",
       "    }\n",
       "\n",
       "    .dataframe tbody tr th {\n",
       "        vertical-align: top;\n",
       "    }\n",
       "\n",
       "    .dataframe thead th {\n",
       "        text-align: right;\n",
       "    }\n",
       "</style>\n",
       "<table border=\"1\" class=\"dataframe\">\n",
       "  <thead>\n",
       "    <tr style=\"text-align: right;\">\n",
       "      <th></th>\n",
       "      <th>name</th>\n",
       "      <th>ground truth</th>\n",
       "    </tr>\n",
       "  </thead>\n",
       "  <tbody>\n",
       "    <tr>\n",
       "      <th>0</th>\n",
       "      <td>S-2006-005094_PAS_1of2_64552732435c92704a3d37c...</td>\n",
       "      <td>0</td>\n",
       "    </tr>\n",
       "    <tr>\n",
       "      <th>1</th>\n",
       "      <td>S-2006-005094_PAS_1of2_64552732435c92704a3d37c...</td>\n",
       "      <td>0</td>\n",
       "    </tr>\n",
       "    <tr>\n",
       "      <th>2</th>\n",
       "      <td>S-2006-005094_PAS_1of2_64552732435c92704a3d37c...</td>\n",
       "      <td>0</td>\n",
       "    </tr>\n",
       "    <tr>\n",
       "      <th>3</th>\n",
       "      <td>S-2006-005094_PAS_1of2_64552732435c92704a3d37c...</td>\n",
       "      <td>0</td>\n",
       "    </tr>\n",
       "    <tr>\n",
       "      <th>4</th>\n",
       "      <td>S-2006-005094_PAS_1of2_64552732435c92704a3d37d...</td>\n",
       "      <td>0</td>\n",
       "    </tr>\n",
       "    <tr>\n",
       "      <th>...</th>\n",
       "      <td>...</td>\n",
       "      <td>...</td>\n",
       "    </tr>\n",
       "    <tr>\n",
       "      <th>5753</th>\n",
       "      <td>S-2001-019413_PAS_1of2_64762d5a435c92704a44caf...</td>\n",
       "      <td>1</td>\n",
       "    </tr>\n",
       "    <tr>\n",
       "      <th>5754</th>\n",
       "      <td>S-2001-019413_PAS_1of2_64762d5a435c92704a44caf...</td>\n",
       "      <td>1</td>\n",
       "    </tr>\n",
       "    <tr>\n",
       "      <th>5755</th>\n",
       "      <td>S-2001-019413_PAS_1of2_64762d5a435c92704a44caf...</td>\n",
       "      <td>1</td>\n",
       "    </tr>\n",
       "    <tr>\n",
       "      <th>5756</th>\n",
       "      <td>S-2001-019413_PAS_1of2_64762d5a435c92704a44caf...</td>\n",
       "      <td>1</td>\n",
       "    </tr>\n",
       "    <tr>\n",
       "      <th>5757</th>\n",
       "      <td>S-2001-019413_PAS_1of2_64762d5a435c92704a44caf...</td>\n",
       "      <td>1</td>\n",
       "    </tr>\n",
       "  </tbody>\n",
       "</table>\n",
       "<p>5758 rows × 2 columns</p>\n",
       "</div>"
      ],
      "text/plain": [
       "                                                   name  ground truth\n",
       "0     S-2006-005094_PAS_1of2_64552732435c92704a3d37c...             0\n",
       "1     S-2006-005094_PAS_1of2_64552732435c92704a3d37c...             0\n",
       "2     S-2006-005094_PAS_1of2_64552732435c92704a3d37c...             0\n",
       "3     S-2006-005094_PAS_1of2_64552732435c92704a3d37c...             0\n",
       "4     S-2006-005094_PAS_1of2_64552732435c92704a3d37d...             0\n",
       "...                                                 ...           ...\n",
       "5753  S-2001-019413_PAS_1of2_64762d5a435c92704a44caf...             1\n",
       "5754  S-2001-019413_PAS_1of2_64762d5a435c92704a44caf...             1\n",
       "5755  S-2001-019413_PAS_1of2_64762d5a435c92704a44caf...             1\n",
       "5756  S-2001-019413_PAS_1of2_64762d5a435c92704a44caf...             1\n",
       "5757  S-2001-019413_PAS_1of2_64762d5a435c92704a44caf...             1\n",
       "\n",
       "[5758 rows x 2 columns]"
      ]
     },
     "execution_count": 5,
     "metadata": {},
     "output_type": "execute_result"
    }
   ],
   "source": [
    "groundtruth_df"
   ]
  },
  {
   "cell_type": "code",
   "execution_count": 6,
   "id": "8d75fc4b-3702-46c2-a401-49765880ed65",
   "metadata": {},
   "outputs": [
    {
     "data": {
      "text/plain": [
       "Index(['name', 'ground truth'], dtype='object')"
      ]
     },
     "execution_count": 6,
     "metadata": {},
     "output_type": "execute_result"
    }
   ],
   "source": [
    "groundtruth_df.columns\n"
   ]
  },
  {
   "cell_type": "code",
   "execution_count": 7,
   "id": "6d87088a-8dfb-4b60-a645-736b85d3f7dc",
   "metadata": {},
   "outputs": [
    {
     "name": "stdout",
     "output_type": "stream",
     "text": [
      "0\n",
      "S-2006-005094_PAS_1of2_64552732435c92704a3d37ca.png\n"
     ]
    }
   ],
   "source": [
    "for index, series in groundtruth_df.iterrows():\n",
    "    label = series['ground truth']\n",
    "    filename = series['name']\n",
    "    print(label)\n",
    "    print(filename)\n",
    "    break;"
   ]
  },
  {
   "cell_type": "code",
   "execution_count": 8,
   "id": "937efdcd-702b-4280-9361-1d6d4ecb5d36",
   "metadata": {},
   "outputs": [
    {
     "name": "stdout",
     "output_type": "stream",
     "text": [
      "0\n",
      "S-2006-005094_PAS_1of2_64552732435c92704a3d37ca.png\n",
      "<class 'int'>\n"
     ]
    }
   ],
   "source": [
    "for row in groundtruth_df.itertuples(index=False):\n",
    "    label = row[1] \n",
    "    filename = row[0]  \n",
    "    print(label)\n",
    "    print(filename)\n",
    "    print(type(label))\n",
    "    break;"
   ]
  },
  {
   "cell_type": "code",
   "execution_count": 9,
   "id": "f3570080-8556-4e8b-911a-4cca24daa2d8",
   "metadata": {},
   "outputs": [
    {
     "data": {
      "text/plain": [
       "name            0\n",
       "ground truth    0\n",
       "dtype: int64"
      ]
     },
     "execution_count": 9,
     "metadata": {},
     "output_type": "execute_result"
    }
   ],
   "source": [
    "groundtruth_df.isna().sum()"
   ]
  },
  {
   "cell_type": "code",
   "execution_count": 10,
   "id": "59e3f4f1-31b7-4063-8d9d-2f5bc8b4b74a",
   "metadata": {},
   "outputs": [
    {
     "data": {
      "text/plain": [
       "name            5758\n",
       "ground truth       2\n",
       "dtype: int64"
      ]
     },
     "execution_count": 10,
     "metadata": {},
     "output_type": "execute_result"
    }
   ],
   "source": [
    "groundtruth_df.nunique()"
   ]
  },
  {
   "cell_type": "code",
   "execution_count": null,
   "id": "5297bfc3-ed49-4ba9-8b14-0701f8d6bdf6",
   "metadata": {},
   "outputs": [],
   "source": []
  },
  {
   "cell_type": "code",
   "execution_count": 11,
   "id": "609f2d2e-2f18-4440-9e0e-b2ed005e1425",
   "metadata": {
    "editable": true,
    "slideshow": {
     "slide_type": ""
    },
    "tags": []
   },
   "outputs": [],
   "source": [
    "# Load and preprocess the dataset using the folder path\n",
    "def image_preprocessing():\n",
    "    sclerotic_folder_path = \"public/globally_sclerotic_glomeruli\" \n",
    "    non_sclerotic_folder_path = \"public/non_globally_sclerotic_glomeruli\"\n",
    "    groundtruth_file_path = \"public/public.csv\"\n",
    "    groundtruth_df = pd.read_csv(groundtruth_file_path)\n",
    "    images = []\n",
    "    labels = []\n",
    "\n",
    "    for row in groundtruth_df.itertuples(index=False):\n",
    "        label = row[1]\n",
    "        filename = row[0]\n",
    "        if label == 1:\n",
    "            image_path = os.path.join(sclerotic_folder_path, filename)\n",
    "        else:\n",
    "            image_path = os.path.join(non_sclerotic_folder_path, filename)\n",
    "        image = cv2.imread(image_path)\n",
    "        image = cv2.resize(image, (224, 224))  \n",
    "        image = image / 255.0  \n",
    "        images.append(image)\n",
    "        labels.append(label)\n",
    "        \n",
    "    images = np.array(images)\n",
    "    labels = np.array(labels)\n",
    "    \n",
    "    # Split the dataset into train and test sets\n",
    "    strat_split = StratifiedShuffleSplit(n_splits=1, test_size=0.2, random_state=42)\n",
    "    train_val_idx, test_idx = next(strat_split.split(images, labels))\n",
    "    train_val_images, test_images = images[train_val_idx], images[test_idx]\n",
    "    train_val_labels, test_labels = labels[train_val_idx], labels[test_idx]\n",
    "\n",
    "    return train_val_images, train_val_labels, test_images, test_labels\n"
   ]
  },
  {
   "cell_type": "code",
   "execution_count": 12,
   "id": "c4ef8f42-2d84-4061-8674-f27e5bda6a86",
   "metadata": {
    "editable": true,
    "slideshow": {
     "slide_type": ""
    },
    "tags": []
   },
   "outputs": [],
   "source": [
    "# Sampling function for eager execution compatibility\n",
    "def sampling(args):\n",
    "    z_mean, z_log_var = args\n",
    "    batch = tf.shape(z_mean)[0]\n",
    "    dim = tf.shape(z_mean)[1]\n",
    "    epsilon = tf.random.normal(shape=(batch, dim))\n",
    "    return z_mean + tf.exp(0.5 * z_log_var) * epsilon"
   ]
  },
  {
   "cell_type": "code",
   "execution_count": 13,
   "id": "a3474237-891c-4fbc-b17e-413ae649810f",
   "metadata": {
    "editable": true,
    "slideshow": {
     "slide_type": ""
    },
    "tags": []
   },
   "outputs": [],
   "source": [
    "# Create the Encoder-Decoder model\n",
    "def encoder_decoder(num_layers, activation_function, filter_counts, latent_dimension=3):\n",
    "    input_layer = Input(shape=(224, 224, 3))\n",
    "    x = input_layer\n",
    "\n",
    "    # Encoder\n",
    "    for i in range(num_layers):\n",
    "        x = Convolution2D(filters=filter_counts[i], kernel_size=(3, 3), padding=\"same\", activation=activation_function)(x)\n",
    "        if i < num_layers - 1:\n",
    "            x = MaxPooling2D((2, 2), padding='same')(x)\n",
    "\n",
    "    shape_before_flattening = K.int_shape(x)  \n",
    "    x = Flatten()(x)  \n",
    "    z_mean = Dense(latent_dimension, name='z_mean')(x)\n",
    "    z_log_var = Dense(latent_dimension, name='z_log_var')(x)\n",
    "    z = Lambda(sampling, name='sampling')([z_mean, z_log_var])\n",
    "\n",
    "    encoder = Model(input_layer, [z_mean, z_log_var, z], name='encoder')\n",
    "\n",
    "    # Decoder\n",
    "    decoder_input = Input(shape=(latent_dimension,))\n",
    "    x = Dense(np.prod(shape_before_flattening[1:]), activation=activation_function)(decoder_input)\n",
    "    x = Reshape((shape_before_flattening[1], shape_before_flattening[2], shape_before_flattening[3]))(x)  \n",
    "\n",
    "    \n",
    "    for i in reversed(range(num_layers - 1)):\n",
    "        x = Convolution2D(filters=filter_counts[i], kernel_size=(3, 3), padding=\"same\", activation=activation_function)(x)\n",
    "        x = UpSampling2D((2, 2))(x)\n",
    "\n",
    "    output_layer = Convolution2D(3, (3, 3), padding='same', activation='sigmoid')(x)\n",
    "    decoder = Model(decoder_input, output_layer, name='decoder')\n",
    "\n",
    "    # Classifier model\n",
    "    z_decoded = decoder(z)\n",
    "    classification_output = Dense(2, activation='softmax', name='classification_output')(z)\n",
    "    vae_model = Model(input_layer, [classification_output, z_decoded], name='vae')\n",
    "\n",
    "    return vae_model, encoder, decoder\n"
   ]
  },
  {
   "cell_type": "code",
   "execution_count": 14,
   "id": "5188a072-f0f9-4fe9-a651-769a1edd1880",
   "metadata": {
    "editable": true,
    "slideshow": {
     "slide_type": ""
    },
    "tags": []
   },
   "outputs": [],
   "source": [
    "# Computing the VAE loss\n",
    "def vae_loss(inputs, decoded_output, z_mean, z_log_var):\n",
    "    reconstruction_loss = tf.reduce_sum(tf.keras.losses.binary_crossentropy(inputs, decoded_output), axis=(1, 2))\n",
    "    kl_loss = -0.5 * tf.reduce_sum(1 + z_log_var - tf.square(z_mean) - tf.exp(z_log_var), axis=1)\n",
    "    return tf.reduce_mean(reconstruction_loss + kl_loss)"
   ]
  },
  {
   "cell_type": "code",
   "execution_count": 15,
   "id": "9e09918f-5996-4074-8e0d-7e5de4e9133a",
   "metadata": {
    "editable": true,
    "slideshow": {
     "slide_type": ""
    },
    "tags": []
   },
   "outputs": [],
   "source": [
    "def vae_loss_parameters(z_mean, z_log_var):\n",
    "    def loss(inputs, decoded_output):\n",
    "        return vae_loss(inputs, decoded_output, z_mean, z_log_var)\n",
    "    return loss"
   ]
  },
  {
   "cell_type": "code",
   "execution_count": 16,
   "id": "8e27990d-b29f-4439-b161-795d3b3adc13",
   "metadata": {
    "editable": true,
    "slideshow": {
     "slide_type": ""
    },
    "tags": []
   },
   "outputs": [],
   "source": [
    "# Objective function for hyperparameters tuning\n",
    "def objective(trial, train_val_images, train_val_labels):\n",
    "    num_layers = trial.suggest_int(\"num_layers\", 1, 5)\n",
    "    filter_counts = [trial.suggest_int(f\"filters_{i}\", 16, 128) for i in range(num_layers)]\n",
    "    activation_function = trial.suggest_categorical(\"activation_function\", [\"relu\", \"sigmoid\"])\n",
    "    latent_dimension = 3\n",
    "\n",
    "    vae_model, encoder, decoder = encoder_decoder(num_layers, activation_function, filter_counts, latent_dimension)\n",
    "\n",
    "    optimizer = tf.keras.optimizers.Adam()\n",
    "    z_mean, z_log_var, _ = encoder.output\n",
    "\n",
    "    vae_model.compile(optimizer=optimizer, \n",
    "                      loss={'classification_output': 'categorical_crossentropy', 'decoder': vae_loss_parameters(z_mean, z_log_var)},\n",
    "                      metrics={'classification_output': 'accuracy'})\n",
    "\n",
    "    # K-Fold Cross-Validation during Hyperparameter Tuning\n",
    "    skf = StratifiedKFold(n_splits=5, shuffle=True, random_state=223)\n",
    "    val_losses = []\n",
    "    precisions = []\n",
    "    recalls = []\n",
    "    f1_scores = []\n",
    "    aucs = []\n",
    "    \n",
    "    for train_idx, val_idx in skf.split(train_val_images, train_val_labels):\n",
    "        train_images, val_images = train_val_images[train_idx], train_val_images[val_idx]\n",
    "        train_labels, val_labels = train_val_labels[train_idx], train_val_labels[val_idx]\n",
    "        one_hot_train_labels = to_categorical(train_labels)\n",
    "        one_hot_val_labels = to_categorical(val_labels)\n",
    "\n",
    "        history = vae_model.fit(train_images, [one_hot_train_labels, train_images], batch_size=32, epochs=20,\n",
    "                                validation_data=(val_images, [one_hot_val_labels, val_images]), verbose=0)\n",
    "        val_loss = history.history['val_loss'][-1]\n",
    "        val_losses.append(val_loss)\n",
    "        val_predictions = vae_model.predict(val_images)[0]\n",
    "        val_pred_labels = np.argmax(val_predictions, axis=1)\n",
    "        precision = precision_score(val_labels, val_pred_labels, average='weighted')\n",
    "        recall = recall_score(val_labels, val_pred_labels, average='weighted')\n",
    "        f1 = f1_score(val_labels, val_pred_labels, average='weighted')\n",
    "        auc = roc_auc_score(one_hot_val_labels, val_predictions, multi_class='ovr')\n",
    "        precisions.append(precision)\n",
    "        recalls.append(recall)\n",
    "        f1_scores.append(f1)\n",
    "        aucs.append(auc)\n",
    "\n",
    "    avg_val_loss = np.mean(val_losses)\n",
    "    avg_precision = np.mean(precisions)\n",
    "    avg_recall = np.mean(recalls)\n",
    "    avg_f1 = np.mean(f1_scores)\n",
    "    avg_auc = np.mean(aucs)\n",
    "\n",
    "    std_val_loss = np.std(val_losses)\n",
    "    std_precision = np.std(precisions)\n",
    "    std_recall = np.std(recalls)\n",
    "    std_f1 = np.std(f1_scores)\n",
    "    std_auc = np.std(aucs)\n",
    "\n",
    "    metrics_results = {\n",
    "        'avg_val_loss': avg_val_loss,\n",
    "        'std_val_loss': std_val_loss,\n",
    "        'avg_precision': avg_precision,\n",
    "        'std_precision': std_precision,\n",
    "        'avg_recall': avg_recall,\n",
    "        'std_recall': std_recall,\n",
    "        'avg_f1': avg_f1,\n",
    "        'std_f1': std_f1,\n",
    "        'avg_auc': avg_auc,\n",
    "        'std_auc': std_auc\n",
    "    }\n",
    "    \n",
    "    metrics_df = pd.DataFrame([metrics_results])\n",
    "    metrics_df.to_csv('public/k_fold_validation_metrics.csv', index=False)\n",
    "    return avg_val_loss"
   ]
  },
  {
   "cell_type": "code",
   "execution_count": 17,
   "id": "42354f21-7a55-4552-8526-9cb02c3e8c97",
   "metadata": {},
   "outputs": [],
   "source": [
    "# Create Optuna study for Hyperparameter Tuning\n",
    "def optuna_study(train_val_images, train_val_labels):\n",
    "    study = optuna.create_study(direction=\"minimize\")\n",
    "    study.optimize(lambda trial: objective(trial, train_val_images, train_val_labels), n_trials=10)\n",
    "    return study"
   ]
  },
  {
   "cell_type": "code",
   "execution_count": null,
   "id": "21020bcb-2529-4651-9bce-99d20cec88d9",
   "metadata": {},
   "outputs": [],
   "source": []
  },
  {
   "cell_type": "code",
   "execution_count": 19,
   "id": "b976a1a3-468f-48c3-9c73-cd600c772991",
   "metadata": {
    "editable": true,
    "slideshow": {
     "slide_type": ""
    },
    "tags": []
   },
   "outputs": [],
   "source": [
    "# Load the dataset\n",
    "train_val_images, train_val_labels, test_images, test_labels = image_preprocessing()"
   ]
  },
  {
   "cell_type": "code",
   "execution_count": 61,
   "id": "90edbb52-b128-4181-a639-089f773a7ef3",
   "metadata": {},
   "outputs": [
    {
     "data": {
      "text/plain": [
       "[20]"
      ]
     },
     "execution_count": 61,
     "metadata": {},
     "output_type": "execute_result"
    }
   ],
   "source": []
  },
  {
   "cell_type": "code",
   "execution_count": 55,
   "id": "4c03be22-7574-4e51-b77d-be4cdd0e54db",
   "metadata": {},
   "outputs": [
    {
     "name": "stderr",
     "output_type": "stream",
     "text": [
      "[I 2024-10-14 14:30:45,105] A new study created in memory with name: no-name-855d8e10-861e-44ae-995a-b20accf5d6b3\n",
      "[W 2024-10-14 14:30:50,265] Trial 0 failed with parameters: {'num_layers': 5, 'filters_0': 49, 'filters_1': 119, 'filters_2': 126, 'filters_3': 96, 'filters_4': 19, 'activation_function': 'relu'} because of the following error: KeyboardInterrupt().\n",
      "Traceback (most recent call last):\n",
      "  File \"C:\\Users\\admin\\anaconda3\\envs\\ciml\\lib\\site-packages\\optuna\\study\\_optimize.py\", line 197, in _run_trial\n",
      "    value_or_values = func(trial)\n",
      "  File \"C:\\Users\\admin\\AppData\\Local\\Temp\\ipykernel_7500\\4131729830.py\", line 4, in <lambda>\n",
      "    study.optimize(lambda trial: objective(trial, train_val_images, train_val_labels), n_trials=10)\n",
      "  File \"C:\\Users\\admin\\AppData\\Local\\Temp\\ipykernel_7500\\2394663582.py\", line 31, in objective\n",
      "    history = vae_model.fit(train_images, [one_hot_train_labels, train_images], batch_size=32, epochs=20,\n",
      "  File \"C:\\Users\\admin\\anaconda3\\envs\\ciml\\lib\\site-packages\\tensorflow\\python\\keras\\engine\\training_v1.py\", line 790, in fit\n",
      "    return func.fit(\n",
      "  File \"C:\\Users\\admin\\anaconda3\\envs\\ciml\\lib\\site-packages\\tensorflow\\python\\keras\\engine\\training_arrays.py\", line 649, in fit\n",
      "    return fit_loop(\n",
      "  File \"C:\\Users\\admin\\anaconda3\\envs\\ciml\\lib\\site-packages\\tensorflow\\python\\keras\\engine\\training_arrays.py\", line 270, in model_iteration\n",
      "    model.reset_metrics()\n",
      "  File \"C:\\Users\\admin\\anaconda3\\envs\\ciml\\lib\\site-packages\\tensorflow\\python\\keras\\engine\\training_v1.py\", line 998, in reset_metrics\n",
      "    m.reset_states()\n",
      "  File \"C:\\Users\\admin\\anaconda3\\envs\\ciml\\lib\\site-packages\\tensorflow\\python\\keras\\metrics.py\", line 247, in reset_states\n",
      "    K.batch_set_value([(v, 0) for v in self.variables])\n",
      "  File \"C:\\Users\\admin\\anaconda3\\envs\\ciml\\lib\\site-packages\\tensorflow\\python\\util\\dispatch.py\", line 201, in wrapper\n",
      "    return target(*args, **kwargs)\n",
      "  File \"C:\\Users\\admin\\anaconda3\\envs\\ciml\\lib\\site-packages\\tensorflow\\python\\keras\\backend.py\", line 3601, in batch_set_value\n",
      "    get_session().run(assign_ops, feed_dict=feed_dict)\n",
      "  File \"C:\\Users\\admin\\anaconda3\\envs\\ciml\\lib\\site-packages\\tensorflow\\python\\keras\\backend.py\", line 630, in get_session\n",
      "    _initialize_variables(session)\n",
      "  File \"C:\\Users\\admin\\anaconda3\\envs\\ciml\\lib\\site-packages\\tensorflow\\python\\keras\\backend.py\", line 1052, in _initialize_variables\n",
      "    is_initialized = session.run(\n",
      "  File \"C:\\Users\\admin\\anaconda3\\envs\\ciml\\lib\\site-packages\\tensorflow\\python\\client\\session.py\", line 957, in run\n",
      "    result = self._run(None, fetches, feed_dict, options_ptr,\n",
      "  File \"C:\\Users\\admin\\anaconda3\\envs\\ciml\\lib\\site-packages\\tensorflow\\python\\client\\session.py\", line 1180, in _run\n",
      "    results = self._do_run(handle, final_targets, final_fetches,\n",
      "  File \"C:\\Users\\admin\\anaconda3\\envs\\ciml\\lib\\site-packages\\tensorflow\\python\\client\\session.py\", line 1358, in _do_run\n",
      "    return self._do_call(_run_fn, feeds, fetches, targets, options,\n",
      "  File \"C:\\Users\\admin\\anaconda3\\envs\\ciml\\lib\\site-packages\\tensorflow\\python\\client\\session.py\", line 1365, in _do_call\n",
      "    return fn(*args)\n",
      "  File \"C:\\Users\\admin\\anaconda3\\envs\\ciml\\lib\\site-packages\\tensorflow\\python\\client\\session.py\", line 1348, in _run_fn\n",
      "    self._extend_graph()\n",
      "  File \"C:\\Users\\admin\\anaconda3\\envs\\ciml\\lib\\site-packages\\tensorflow\\python\\client\\session.py\", line 1388, in _extend_graph\n",
      "    tf_session.ExtendSession(self._session)\n",
      "KeyboardInterrupt\n",
      "[W 2024-10-14 14:30:50,283] Trial 0 failed with value None.\n"
     ]
    },
    {
     "ename": "KeyboardInterrupt",
     "evalue": "",
     "output_type": "error",
     "traceback": [
      "\u001b[1;31m---------------------------------------------------------------------------\u001b[0m",
      "\u001b[1;31mKeyboardInterrupt\u001b[0m                         Traceback (most recent call last)",
      "Cell \u001b[1;32mIn[55], line 2\u001b[0m\n\u001b[0;32m      1\u001b[0m \u001b[38;5;66;03m# Do Hyperparameter Tuning\u001b[39;00m\n\u001b[1;32m----> 2\u001b[0m study \u001b[38;5;241m=\u001b[39m \u001b[43moptuna_study\u001b[49m\u001b[43m(\u001b[49m\u001b[43mtrain_val_images\u001b[49m\u001b[43m,\u001b[49m\u001b[43m \u001b[49m\u001b[43mtrain_val_labels\u001b[49m\u001b[43m)\u001b[49m\n",
      "Cell \u001b[1;32mIn[17], line 4\u001b[0m, in \u001b[0;36moptuna_study\u001b[1;34m(train_val_images, train_val_labels)\u001b[0m\n\u001b[0;32m      2\u001b[0m \u001b[38;5;28;01mdef\u001b[39;00m \u001b[38;5;21moptuna_study\u001b[39m(train_val_images, train_val_labels):\n\u001b[0;32m      3\u001b[0m     study \u001b[38;5;241m=\u001b[39m optuna\u001b[38;5;241m.\u001b[39mcreate_study(direction\u001b[38;5;241m=\u001b[39m\u001b[38;5;124m\"\u001b[39m\u001b[38;5;124mminimize\u001b[39m\u001b[38;5;124m\"\u001b[39m)\n\u001b[1;32m----> 4\u001b[0m     \u001b[43mstudy\u001b[49m\u001b[38;5;241;43m.\u001b[39;49m\u001b[43moptimize\u001b[49m\u001b[43m(\u001b[49m\u001b[38;5;28;43;01mlambda\u001b[39;49;00m\u001b[43m \u001b[49m\u001b[43mtrial\u001b[49m\u001b[43m:\u001b[49m\u001b[43m \u001b[49m\u001b[43mobjective\u001b[49m\u001b[43m(\u001b[49m\u001b[43mtrial\u001b[49m\u001b[43m,\u001b[49m\u001b[43m \u001b[49m\u001b[43mtrain_val_images\u001b[49m\u001b[43m,\u001b[49m\u001b[43m \u001b[49m\u001b[43mtrain_val_labels\u001b[49m\u001b[43m)\u001b[49m\u001b[43m,\u001b[49m\u001b[43m \u001b[49m\u001b[43mn_trials\u001b[49m\u001b[38;5;241;43m=\u001b[39;49m\u001b[38;5;241;43m10\u001b[39;49m\u001b[43m)\u001b[49m\n\u001b[0;32m      5\u001b[0m     \u001b[38;5;28;01mreturn\u001b[39;00m study\n",
      "File \u001b[1;32m~\\anaconda3\\envs\\ciml\\lib\\site-packages\\optuna\\study\\study.py:475\u001b[0m, in \u001b[0;36mStudy.optimize\u001b[1;34m(self, func, n_trials, timeout, n_jobs, catch, callbacks, gc_after_trial, show_progress_bar)\u001b[0m\n\u001b[0;32m    373\u001b[0m \u001b[38;5;28;01mdef\u001b[39;00m \u001b[38;5;21moptimize\u001b[39m(\n\u001b[0;32m    374\u001b[0m     \u001b[38;5;28mself\u001b[39m,\n\u001b[0;32m    375\u001b[0m     func: ObjectiveFuncType,\n\u001b[1;32m   (...)\u001b[0m\n\u001b[0;32m    382\u001b[0m     show_progress_bar: \u001b[38;5;28mbool\u001b[39m \u001b[38;5;241m=\u001b[39m \u001b[38;5;28;01mFalse\u001b[39;00m,\n\u001b[0;32m    383\u001b[0m ) \u001b[38;5;241m-\u001b[39m\u001b[38;5;241m>\u001b[39m \u001b[38;5;28;01mNone\u001b[39;00m:\n\u001b[0;32m    384\u001b[0m \u001b[38;5;250m    \u001b[39m\u001b[38;5;124;03m\"\"\"Optimize an objective function.\u001b[39;00m\n\u001b[0;32m    385\u001b[0m \n\u001b[0;32m    386\u001b[0m \u001b[38;5;124;03m    Optimization is done by choosing a suitable set of hyperparameter values from a given\u001b[39;00m\n\u001b[1;32m   (...)\u001b[0m\n\u001b[0;32m    473\u001b[0m \u001b[38;5;124;03m            If nested invocation of this method occurs.\u001b[39;00m\n\u001b[0;32m    474\u001b[0m \u001b[38;5;124;03m    \"\"\"\u001b[39;00m\n\u001b[1;32m--> 475\u001b[0m     \u001b[43m_optimize\u001b[49m\u001b[43m(\u001b[49m\n\u001b[0;32m    476\u001b[0m \u001b[43m        \u001b[49m\u001b[43mstudy\u001b[49m\u001b[38;5;241;43m=\u001b[39;49m\u001b[38;5;28;43mself\u001b[39;49m\u001b[43m,\u001b[49m\n\u001b[0;32m    477\u001b[0m \u001b[43m        \u001b[49m\u001b[43mfunc\u001b[49m\u001b[38;5;241;43m=\u001b[39;49m\u001b[43mfunc\u001b[49m\u001b[43m,\u001b[49m\n\u001b[0;32m    478\u001b[0m \u001b[43m        \u001b[49m\u001b[43mn_trials\u001b[49m\u001b[38;5;241;43m=\u001b[39;49m\u001b[43mn_trials\u001b[49m\u001b[43m,\u001b[49m\n\u001b[0;32m    479\u001b[0m \u001b[43m        \u001b[49m\u001b[43mtimeout\u001b[49m\u001b[38;5;241;43m=\u001b[39;49m\u001b[43mtimeout\u001b[49m\u001b[43m,\u001b[49m\n\u001b[0;32m    480\u001b[0m \u001b[43m        \u001b[49m\u001b[43mn_jobs\u001b[49m\u001b[38;5;241;43m=\u001b[39;49m\u001b[43mn_jobs\u001b[49m\u001b[43m,\u001b[49m\n\u001b[0;32m    481\u001b[0m \u001b[43m        \u001b[49m\u001b[43mcatch\u001b[49m\u001b[38;5;241;43m=\u001b[39;49m\u001b[38;5;28;43mtuple\u001b[39;49m\u001b[43m(\u001b[49m\u001b[43mcatch\u001b[49m\u001b[43m)\u001b[49m\u001b[43m \u001b[49m\u001b[38;5;28;43;01mif\u001b[39;49;00m\u001b[43m \u001b[49m\u001b[38;5;28;43misinstance\u001b[39;49m\u001b[43m(\u001b[49m\u001b[43mcatch\u001b[49m\u001b[43m,\u001b[49m\u001b[43m \u001b[49m\u001b[43mIterable\u001b[49m\u001b[43m)\u001b[49m\u001b[43m \u001b[49m\u001b[38;5;28;43;01melse\u001b[39;49;00m\u001b[43m \u001b[49m\u001b[43m(\u001b[49m\u001b[43mcatch\u001b[49m\u001b[43m,\u001b[49m\u001b[43m)\u001b[49m\u001b[43m,\u001b[49m\n\u001b[0;32m    482\u001b[0m \u001b[43m        \u001b[49m\u001b[43mcallbacks\u001b[49m\u001b[38;5;241;43m=\u001b[39;49m\u001b[43mcallbacks\u001b[49m\u001b[43m,\u001b[49m\n\u001b[0;32m    483\u001b[0m \u001b[43m        \u001b[49m\u001b[43mgc_after_trial\u001b[49m\u001b[38;5;241;43m=\u001b[39;49m\u001b[43mgc_after_trial\u001b[49m\u001b[43m,\u001b[49m\n\u001b[0;32m    484\u001b[0m \u001b[43m        \u001b[49m\u001b[43mshow_progress_bar\u001b[49m\u001b[38;5;241;43m=\u001b[39;49m\u001b[43mshow_progress_bar\u001b[49m\u001b[43m,\u001b[49m\n\u001b[0;32m    485\u001b[0m \u001b[43m    \u001b[49m\u001b[43m)\u001b[49m\n",
      "File \u001b[1;32m~\\anaconda3\\envs\\ciml\\lib\\site-packages\\optuna\\study\\_optimize.py:63\u001b[0m, in \u001b[0;36m_optimize\u001b[1;34m(study, func, n_trials, timeout, n_jobs, catch, callbacks, gc_after_trial, show_progress_bar)\u001b[0m\n\u001b[0;32m     61\u001b[0m \u001b[38;5;28;01mtry\u001b[39;00m:\n\u001b[0;32m     62\u001b[0m     \u001b[38;5;28;01mif\u001b[39;00m n_jobs \u001b[38;5;241m==\u001b[39m \u001b[38;5;241m1\u001b[39m:\n\u001b[1;32m---> 63\u001b[0m         \u001b[43m_optimize_sequential\u001b[49m\u001b[43m(\u001b[49m\n\u001b[0;32m     64\u001b[0m \u001b[43m            \u001b[49m\u001b[43mstudy\u001b[49m\u001b[43m,\u001b[49m\n\u001b[0;32m     65\u001b[0m \u001b[43m            \u001b[49m\u001b[43mfunc\u001b[49m\u001b[43m,\u001b[49m\n\u001b[0;32m     66\u001b[0m \u001b[43m            \u001b[49m\u001b[43mn_trials\u001b[49m\u001b[43m,\u001b[49m\n\u001b[0;32m     67\u001b[0m \u001b[43m            \u001b[49m\u001b[43mtimeout\u001b[49m\u001b[43m,\u001b[49m\n\u001b[0;32m     68\u001b[0m \u001b[43m            \u001b[49m\u001b[43mcatch\u001b[49m\u001b[43m,\u001b[49m\n\u001b[0;32m     69\u001b[0m \u001b[43m            \u001b[49m\u001b[43mcallbacks\u001b[49m\u001b[43m,\u001b[49m\n\u001b[0;32m     70\u001b[0m \u001b[43m            \u001b[49m\u001b[43mgc_after_trial\u001b[49m\u001b[43m,\u001b[49m\n\u001b[0;32m     71\u001b[0m \u001b[43m            \u001b[49m\u001b[43mreseed_sampler_rng\u001b[49m\u001b[38;5;241;43m=\u001b[39;49m\u001b[38;5;28;43;01mFalse\u001b[39;49;00m\u001b[43m,\u001b[49m\n\u001b[0;32m     72\u001b[0m \u001b[43m            \u001b[49m\u001b[43mtime_start\u001b[49m\u001b[38;5;241;43m=\u001b[39;49m\u001b[38;5;28;43;01mNone\u001b[39;49;00m\u001b[43m,\u001b[49m\n\u001b[0;32m     73\u001b[0m \u001b[43m            \u001b[49m\u001b[43mprogress_bar\u001b[49m\u001b[38;5;241;43m=\u001b[39;49m\u001b[43mprogress_bar\u001b[49m\u001b[43m,\u001b[49m\n\u001b[0;32m     74\u001b[0m \u001b[43m        \u001b[49m\u001b[43m)\u001b[49m\n\u001b[0;32m     75\u001b[0m     \u001b[38;5;28;01melse\u001b[39;00m:\n\u001b[0;32m     76\u001b[0m         \u001b[38;5;28;01mif\u001b[39;00m n_jobs \u001b[38;5;241m==\u001b[39m \u001b[38;5;241m-\u001b[39m\u001b[38;5;241m1\u001b[39m:\n",
      "File \u001b[1;32m~\\anaconda3\\envs\\ciml\\lib\\site-packages\\optuna\\study\\_optimize.py:160\u001b[0m, in \u001b[0;36m_optimize_sequential\u001b[1;34m(study, func, n_trials, timeout, catch, callbacks, gc_after_trial, reseed_sampler_rng, time_start, progress_bar)\u001b[0m\n\u001b[0;32m    157\u001b[0m         \u001b[38;5;28;01mbreak\u001b[39;00m\n\u001b[0;32m    159\u001b[0m \u001b[38;5;28;01mtry\u001b[39;00m:\n\u001b[1;32m--> 160\u001b[0m     frozen_trial \u001b[38;5;241m=\u001b[39m \u001b[43m_run_trial\u001b[49m\u001b[43m(\u001b[49m\u001b[43mstudy\u001b[49m\u001b[43m,\u001b[49m\u001b[43m \u001b[49m\u001b[43mfunc\u001b[49m\u001b[43m,\u001b[49m\u001b[43m \u001b[49m\u001b[43mcatch\u001b[49m\u001b[43m)\u001b[49m\n\u001b[0;32m    161\u001b[0m \u001b[38;5;28;01mfinally\u001b[39;00m:\n\u001b[0;32m    162\u001b[0m     \u001b[38;5;66;03m# The following line mitigates memory problems that can be occurred in some\u001b[39;00m\n\u001b[0;32m    163\u001b[0m     \u001b[38;5;66;03m# environments (e.g., services that use computing containers such as GitHub Actions).\u001b[39;00m\n\u001b[0;32m    164\u001b[0m     \u001b[38;5;66;03m# Please refer to the following PR for further details:\u001b[39;00m\n\u001b[0;32m    165\u001b[0m     \u001b[38;5;66;03m# https://github.com/optuna/optuna/pull/325.\u001b[39;00m\n\u001b[0;32m    166\u001b[0m     \u001b[38;5;28;01mif\u001b[39;00m gc_after_trial:\n",
      "File \u001b[1;32m~\\anaconda3\\envs\\ciml\\lib\\site-packages\\optuna\\study\\_optimize.py:248\u001b[0m, in \u001b[0;36m_run_trial\u001b[1;34m(study, func, catch)\u001b[0m\n\u001b[0;32m    241\u001b[0m         \u001b[38;5;28;01massert\u001b[39;00m \u001b[38;5;28;01mFalse\u001b[39;00m, \u001b[38;5;124m\"\u001b[39m\u001b[38;5;124mShould not reach.\u001b[39m\u001b[38;5;124m\"\u001b[39m\n\u001b[0;32m    243\u001b[0m \u001b[38;5;28;01mif\u001b[39;00m (\n\u001b[0;32m    244\u001b[0m     frozen_trial\u001b[38;5;241m.\u001b[39mstate \u001b[38;5;241m==\u001b[39m TrialState\u001b[38;5;241m.\u001b[39mFAIL\n\u001b[0;32m    245\u001b[0m     \u001b[38;5;129;01mand\u001b[39;00m func_err \u001b[38;5;129;01mis\u001b[39;00m \u001b[38;5;129;01mnot\u001b[39;00m \u001b[38;5;28;01mNone\u001b[39;00m\n\u001b[0;32m    246\u001b[0m     \u001b[38;5;129;01mand\u001b[39;00m \u001b[38;5;129;01mnot\u001b[39;00m \u001b[38;5;28misinstance\u001b[39m(func_err, catch)\n\u001b[0;32m    247\u001b[0m ):\n\u001b[1;32m--> 248\u001b[0m     \u001b[38;5;28;01mraise\u001b[39;00m func_err\n\u001b[0;32m    249\u001b[0m \u001b[38;5;28;01mreturn\u001b[39;00m frozen_trial\n",
      "File \u001b[1;32m~\\anaconda3\\envs\\ciml\\lib\\site-packages\\optuna\\study\\_optimize.py:197\u001b[0m, in \u001b[0;36m_run_trial\u001b[1;34m(study, func, catch)\u001b[0m\n\u001b[0;32m    195\u001b[0m \u001b[38;5;28;01mwith\u001b[39;00m get_heartbeat_thread(trial\u001b[38;5;241m.\u001b[39m_trial_id, study\u001b[38;5;241m.\u001b[39m_storage):\n\u001b[0;32m    196\u001b[0m     \u001b[38;5;28;01mtry\u001b[39;00m:\n\u001b[1;32m--> 197\u001b[0m         value_or_values \u001b[38;5;241m=\u001b[39m \u001b[43mfunc\u001b[49m\u001b[43m(\u001b[49m\u001b[43mtrial\u001b[49m\u001b[43m)\u001b[49m\n\u001b[0;32m    198\u001b[0m     \u001b[38;5;28;01mexcept\u001b[39;00m exceptions\u001b[38;5;241m.\u001b[39mTrialPruned \u001b[38;5;28;01mas\u001b[39;00m e:\n\u001b[0;32m    199\u001b[0m         \u001b[38;5;66;03m# TODO(mamu): Handle multi-objective cases.\u001b[39;00m\n\u001b[0;32m    200\u001b[0m         state \u001b[38;5;241m=\u001b[39m TrialState\u001b[38;5;241m.\u001b[39mPRUNED\n",
      "Cell \u001b[1;32mIn[17], line 4\u001b[0m, in \u001b[0;36moptuna_study.<locals>.<lambda>\u001b[1;34m(trial)\u001b[0m\n\u001b[0;32m      2\u001b[0m \u001b[38;5;28;01mdef\u001b[39;00m \u001b[38;5;21moptuna_study\u001b[39m(train_val_images, train_val_labels):\n\u001b[0;32m      3\u001b[0m     study \u001b[38;5;241m=\u001b[39m optuna\u001b[38;5;241m.\u001b[39mcreate_study(direction\u001b[38;5;241m=\u001b[39m\u001b[38;5;124m\"\u001b[39m\u001b[38;5;124mminimize\u001b[39m\u001b[38;5;124m\"\u001b[39m)\n\u001b[1;32m----> 4\u001b[0m     study\u001b[38;5;241m.\u001b[39moptimize(\u001b[38;5;28;01mlambda\u001b[39;00m trial: \u001b[43mobjective\u001b[49m\u001b[43m(\u001b[49m\u001b[43mtrial\u001b[49m\u001b[43m,\u001b[49m\u001b[43m \u001b[49m\u001b[43mtrain_val_images\u001b[49m\u001b[43m,\u001b[49m\u001b[43m \u001b[49m\u001b[43mtrain_val_labels\u001b[49m\u001b[43m)\u001b[49m, n_trials\u001b[38;5;241m=\u001b[39m\u001b[38;5;241m10\u001b[39m)\n\u001b[0;32m      5\u001b[0m     \u001b[38;5;28;01mreturn\u001b[39;00m study\n",
      "Cell \u001b[1;32mIn[16], line 31\u001b[0m, in \u001b[0;36mobjective\u001b[1;34m(trial, train_val_images, train_val_labels)\u001b[0m\n\u001b[0;32m     28\u001b[0m one_hot_train_labels \u001b[38;5;241m=\u001b[39m to_categorical(train_labels)\n\u001b[0;32m     29\u001b[0m one_hot_val_labels \u001b[38;5;241m=\u001b[39m to_categorical(val_labels)\n\u001b[1;32m---> 31\u001b[0m history \u001b[38;5;241m=\u001b[39m \u001b[43mvae_model\u001b[49m\u001b[38;5;241;43m.\u001b[39;49m\u001b[43mfit\u001b[49m\u001b[43m(\u001b[49m\u001b[43mtrain_images\u001b[49m\u001b[43m,\u001b[49m\u001b[43m \u001b[49m\u001b[43m[\u001b[49m\u001b[43mone_hot_train_labels\u001b[49m\u001b[43m,\u001b[49m\u001b[43m \u001b[49m\u001b[43mtrain_images\u001b[49m\u001b[43m]\u001b[49m\u001b[43m,\u001b[49m\u001b[43m \u001b[49m\u001b[43mbatch_size\u001b[49m\u001b[38;5;241;43m=\u001b[39;49m\u001b[38;5;241;43m32\u001b[39;49m\u001b[43m,\u001b[49m\u001b[43m \u001b[49m\u001b[43mepochs\u001b[49m\u001b[38;5;241;43m=\u001b[39;49m\u001b[38;5;241;43m20\u001b[39;49m\u001b[43m,\u001b[49m\n\u001b[0;32m     32\u001b[0m \u001b[43m                        \u001b[49m\u001b[43mvalidation_data\u001b[49m\u001b[38;5;241;43m=\u001b[39;49m\u001b[43m(\u001b[49m\u001b[43mval_images\u001b[49m\u001b[43m,\u001b[49m\u001b[43m \u001b[49m\u001b[43m[\u001b[49m\u001b[43mone_hot_val_labels\u001b[49m\u001b[43m,\u001b[49m\u001b[43m \u001b[49m\u001b[43mval_images\u001b[49m\u001b[43m]\u001b[49m\u001b[43m)\u001b[49m\u001b[43m,\u001b[49m\u001b[43m \u001b[49m\u001b[43mverbose\u001b[49m\u001b[38;5;241;43m=\u001b[39;49m\u001b[38;5;241;43m0\u001b[39;49m\u001b[43m)\u001b[49m\n\u001b[0;32m     33\u001b[0m val_loss \u001b[38;5;241m=\u001b[39m history\u001b[38;5;241m.\u001b[39mhistory[\u001b[38;5;124m'\u001b[39m\u001b[38;5;124mval_loss\u001b[39m\u001b[38;5;124m'\u001b[39m][\u001b[38;5;241m-\u001b[39m\u001b[38;5;241m1\u001b[39m]\n\u001b[0;32m     34\u001b[0m val_losses\u001b[38;5;241m.\u001b[39mappend(val_loss)\n",
      "File \u001b[1;32m~\\anaconda3\\envs\\ciml\\lib\\site-packages\\tensorflow\\python\\keras\\engine\\training_v1.py:790\u001b[0m, in \u001b[0;36mModel.fit\u001b[1;34m(self, x, y, batch_size, epochs, verbose, callbacks, validation_split, validation_data, shuffle, class_weight, sample_weight, initial_epoch, steps_per_epoch, validation_steps, validation_freq, max_queue_size, workers, use_multiprocessing, **kwargs)\u001b[0m\n\u001b[0;32m    787\u001b[0m \u001b[38;5;28mself\u001b[39m\u001b[38;5;241m.\u001b[39m_check_call_args(\u001b[38;5;124m'\u001b[39m\u001b[38;5;124mfit\u001b[39m\u001b[38;5;124m'\u001b[39m)\n\u001b[0;32m    789\u001b[0m func \u001b[38;5;241m=\u001b[39m \u001b[38;5;28mself\u001b[39m\u001b[38;5;241m.\u001b[39m_select_training_loop(x)\n\u001b[1;32m--> 790\u001b[0m \u001b[38;5;28;01mreturn\u001b[39;00m \u001b[43mfunc\u001b[49m\u001b[38;5;241;43m.\u001b[39;49m\u001b[43mfit\u001b[49m\u001b[43m(\u001b[49m\n\u001b[0;32m    791\u001b[0m \u001b[43m    \u001b[49m\u001b[38;5;28;43mself\u001b[39;49m\u001b[43m,\u001b[49m\n\u001b[0;32m    792\u001b[0m \u001b[43m    \u001b[49m\u001b[43mx\u001b[49m\u001b[38;5;241;43m=\u001b[39;49m\u001b[43mx\u001b[49m\u001b[43m,\u001b[49m\n\u001b[0;32m    793\u001b[0m \u001b[43m    \u001b[49m\u001b[43my\u001b[49m\u001b[38;5;241;43m=\u001b[39;49m\u001b[43my\u001b[49m\u001b[43m,\u001b[49m\n\u001b[0;32m    794\u001b[0m \u001b[43m    \u001b[49m\u001b[43mbatch_size\u001b[49m\u001b[38;5;241;43m=\u001b[39;49m\u001b[43mbatch_size\u001b[49m\u001b[43m,\u001b[49m\n\u001b[0;32m    795\u001b[0m \u001b[43m    \u001b[49m\u001b[43mepochs\u001b[49m\u001b[38;5;241;43m=\u001b[39;49m\u001b[43mepochs\u001b[49m\u001b[43m,\u001b[49m\n\u001b[0;32m    796\u001b[0m \u001b[43m    \u001b[49m\u001b[43mverbose\u001b[49m\u001b[38;5;241;43m=\u001b[39;49m\u001b[43mverbose\u001b[49m\u001b[43m,\u001b[49m\n\u001b[0;32m    797\u001b[0m \u001b[43m    \u001b[49m\u001b[43mcallbacks\u001b[49m\u001b[38;5;241;43m=\u001b[39;49m\u001b[43mcallbacks\u001b[49m\u001b[43m,\u001b[49m\n\u001b[0;32m    798\u001b[0m \u001b[43m    \u001b[49m\u001b[43mvalidation_split\u001b[49m\u001b[38;5;241;43m=\u001b[39;49m\u001b[43mvalidation_split\u001b[49m\u001b[43m,\u001b[49m\n\u001b[0;32m    799\u001b[0m \u001b[43m    \u001b[49m\u001b[43mvalidation_data\u001b[49m\u001b[38;5;241;43m=\u001b[39;49m\u001b[43mvalidation_data\u001b[49m\u001b[43m,\u001b[49m\n\u001b[0;32m    800\u001b[0m \u001b[43m    \u001b[49m\u001b[43mshuffle\u001b[49m\u001b[38;5;241;43m=\u001b[39;49m\u001b[43mshuffle\u001b[49m\u001b[43m,\u001b[49m\n\u001b[0;32m    801\u001b[0m \u001b[43m    \u001b[49m\u001b[43mclass_weight\u001b[49m\u001b[38;5;241;43m=\u001b[39;49m\u001b[43mclass_weight\u001b[49m\u001b[43m,\u001b[49m\n\u001b[0;32m    802\u001b[0m \u001b[43m    \u001b[49m\u001b[43msample_weight\u001b[49m\u001b[38;5;241;43m=\u001b[39;49m\u001b[43msample_weight\u001b[49m\u001b[43m,\u001b[49m\n\u001b[0;32m    803\u001b[0m \u001b[43m    \u001b[49m\u001b[43minitial_epoch\u001b[49m\u001b[38;5;241;43m=\u001b[39;49m\u001b[43minitial_epoch\u001b[49m\u001b[43m,\u001b[49m\n\u001b[0;32m    804\u001b[0m \u001b[43m    \u001b[49m\u001b[43msteps_per_epoch\u001b[49m\u001b[38;5;241;43m=\u001b[39;49m\u001b[43msteps_per_epoch\u001b[49m\u001b[43m,\u001b[49m\n\u001b[0;32m    805\u001b[0m \u001b[43m    \u001b[49m\u001b[43mvalidation_steps\u001b[49m\u001b[38;5;241;43m=\u001b[39;49m\u001b[43mvalidation_steps\u001b[49m\u001b[43m,\u001b[49m\n\u001b[0;32m    806\u001b[0m \u001b[43m    \u001b[49m\u001b[43mvalidation_freq\u001b[49m\u001b[38;5;241;43m=\u001b[39;49m\u001b[43mvalidation_freq\u001b[49m\u001b[43m,\u001b[49m\n\u001b[0;32m    807\u001b[0m \u001b[43m    \u001b[49m\u001b[43mmax_queue_size\u001b[49m\u001b[38;5;241;43m=\u001b[39;49m\u001b[43mmax_queue_size\u001b[49m\u001b[43m,\u001b[49m\n\u001b[0;32m    808\u001b[0m \u001b[43m    \u001b[49m\u001b[43mworkers\u001b[49m\u001b[38;5;241;43m=\u001b[39;49m\u001b[43mworkers\u001b[49m\u001b[43m,\u001b[49m\n\u001b[0;32m    809\u001b[0m \u001b[43m    \u001b[49m\u001b[43muse_multiprocessing\u001b[49m\u001b[38;5;241;43m=\u001b[39;49m\u001b[43muse_multiprocessing\u001b[49m\u001b[43m)\u001b[49m\n",
      "File \u001b[1;32m~\\anaconda3\\envs\\ciml\\lib\\site-packages\\tensorflow\\python\\keras\\engine\\training_arrays.py:649\u001b[0m, in \u001b[0;36mArrayLikeTrainingLoop.fit\u001b[1;34m(self, model, x, y, batch_size, epochs, verbose, callbacks, validation_split, validation_data, shuffle, class_weight, sample_weight, initial_epoch, steps_per_epoch, validation_steps, validation_freq, **kwargs)\u001b[0m\n\u001b[0;32m    645\u001b[0m     \u001b[38;5;28;01mraise\u001b[39;00m \u001b[38;5;167;01mValueError\u001b[39;00m(\u001b[38;5;124m'\u001b[39m\u001b[38;5;124m`validation_steps` should not be specified if \u001b[39m\u001b[38;5;124m'\u001b[39m\n\u001b[0;32m    646\u001b[0m                      \u001b[38;5;124m'\u001b[39m\u001b[38;5;124m`validation_data` is None.\u001b[39m\u001b[38;5;124m'\u001b[39m)\n\u001b[0;32m    647\u001b[0m   val_x, val_y, val_sample_weights \u001b[38;5;241m=\u001b[39m \u001b[38;5;28;01mNone\u001b[39;00m, \u001b[38;5;28;01mNone\u001b[39;00m, \u001b[38;5;28;01mNone\u001b[39;00m\n\u001b[1;32m--> 649\u001b[0m \u001b[38;5;28;01mreturn\u001b[39;00m \u001b[43mfit_loop\u001b[49m\u001b[43m(\u001b[49m\n\u001b[0;32m    650\u001b[0m \u001b[43m    \u001b[49m\u001b[43mmodel\u001b[49m\u001b[43m,\u001b[49m\n\u001b[0;32m    651\u001b[0m \u001b[43m    \u001b[49m\u001b[43minputs\u001b[49m\u001b[38;5;241;43m=\u001b[39;49m\u001b[43mx\u001b[49m\u001b[43m,\u001b[49m\n\u001b[0;32m    652\u001b[0m \u001b[43m    \u001b[49m\u001b[43mtargets\u001b[49m\u001b[38;5;241;43m=\u001b[39;49m\u001b[43my\u001b[49m\u001b[43m,\u001b[49m\n\u001b[0;32m    653\u001b[0m \u001b[43m    \u001b[49m\u001b[43msample_weights\u001b[49m\u001b[38;5;241;43m=\u001b[39;49m\u001b[43msample_weights\u001b[49m\u001b[43m,\u001b[49m\n\u001b[0;32m    654\u001b[0m \u001b[43m    \u001b[49m\u001b[43mbatch_size\u001b[49m\u001b[38;5;241;43m=\u001b[39;49m\u001b[43mbatch_size\u001b[49m\u001b[43m,\u001b[49m\n\u001b[0;32m    655\u001b[0m \u001b[43m    \u001b[49m\u001b[43mepochs\u001b[49m\u001b[38;5;241;43m=\u001b[39;49m\u001b[43mepochs\u001b[49m\u001b[43m,\u001b[49m\n\u001b[0;32m    656\u001b[0m \u001b[43m    \u001b[49m\u001b[43mverbose\u001b[49m\u001b[38;5;241;43m=\u001b[39;49m\u001b[43mverbose\u001b[49m\u001b[43m,\u001b[49m\n\u001b[0;32m    657\u001b[0m \u001b[43m    \u001b[49m\u001b[43mcallbacks\u001b[49m\u001b[38;5;241;43m=\u001b[39;49m\u001b[43mcallbacks\u001b[49m\u001b[43m,\u001b[49m\n\u001b[0;32m    658\u001b[0m \u001b[43m    \u001b[49m\u001b[43mval_inputs\u001b[49m\u001b[38;5;241;43m=\u001b[39;49m\u001b[43mval_x\u001b[49m\u001b[43m,\u001b[49m\n\u001b[0;32m    659\u001b[0m \u001b[43m    \u001b[49m\u001b[43mval_targets\u001b[49m\u001b[38;5;241;43m=\u001b[39;49m\u001b[43mval_y\u001b[49m\u001b[43m,\u001b[49m\n\u001b[0;32m    660\u001b[0m \u001b[43m    \u001b[49m\u001b[43mval_sample_weights\u001b[49m\u001b[38;5;241;43m=\u001b[39;49m\u001b[43mval_sample_weights\u001b[49m\u001b[43m,\u001b[49m\n\u001b[0;32m    661\u001b[0m \u001b[43m    \u001b[49m\u001b[43mshuffle\u001b[49m\u001b[38;5;241;43m=\u001b[39;49m\u001b[43mshuffle\u001b[49m\u001b[43m,\u001b[49m\n\u001b[0;32m    662\u001b[0m \u001b[43m    \u001b[49m\u001b[43minitial_epoch\u001b[49m\u001b[38;5;241;43m=\u001b[39;49m\u001b[43minitial_epoch\u001b[49m\u001b[43m,\u001b[49m\n\u001b[0;32m    663\u001b[0m \u001b[43m    \u001b[49m\u001b[43msteps_per_epoch\u001b[49m\u001b[38;5;241;43m=\u001b[39;49m\u001b[43msteps_per_epoch\u001b[49m\u001b[43m,\u001b[49m\n\u001b[0;32m    664\u001b[0m \u001b[43m    \u001b[49m\u001b[43mvalidation_steps\u001b[49m\u001b[38;5;241;43m=\u001b[39;49m\u001b[43mvalidation_steps\u001b[49m\u001b[43m,\u001b[49m\n\u001b[0;32m    665\u001b[0m \u001b[43m    \u001b[49m\u001b[43mvalidation_freq\u001b[49m\u001b[38;5;241;43m=\u001b[39;49m\u001b[43mvalidation_freq\u001b[49m\u001b[43m,\u001b[49m\n\u001b[0;32m    666\u001b[0m \u001b[43m    \u001b[49m\u001b[43msteps_name\u001b[49m\u001b[38;5;241;43m=\u001b[39;49m\u001b[38;5;124;43m'\u001b[39;49m\u001b[38;5;124;43msteps_per_epoch\u001b[39;49m\u001b[38;5;124;43m'\u001b[39;49m\u001b[43m)\u001b[49m\n",
      "File \u001b[1;32m~\\anaconda3\\envs\\ciml\\lib\\site-packages\\tensorflow\\python\\keras\\engine\\training_arrays.py:270\u001b[0m, in \u001b[0;36mmodel_iteration\u001b[1;34m(model, inputs, targets, sample_weights, batch_size, epochs, verbose, callbacks, val_inputs, val_targets, val_sample_weights, shuffle, initial_epoch, steps_per_epoch, validation_steps, validation_freq, mode, validation_in_fit, prepared_feed_values_from_dataset, steps_name, **kwargs)\u001b[0m\n\u001b[0;32m    266\u001b[0m epoch_logs \u001b[38;5;241m=\u001b[39m {}\n\u001b[0;32m    267\u001b[0m \u001b[38;5;28;01mif\u001b[39;00m mode \u001b[38;5;241m!=\u001b[39m ModeKeys\u001b[38;5;241m.\u001b[39mPREDICT:\n\u001b[0;32m    268\u001b[0m   \u001b[38;5;66;03m# Collecting and resetting metrics has non-zero cost and will needlessly\u001b[39;00m\n\u001b[0;32m    269\u001b[0m   \u001b[38;5;66;03m# slow down model.predict.\u001b[39;00m\n\u001b[1;32m--> 270\u001b[0m   \u001b[43mmodel\u001b[49m\u001b[38;5;241;43m.\u001b[39;49m\u001b[43mreset_metrics\u001b[49m\u001b[43m(\u001b[49m\u001b[43m)\u001b[49m\n\u001b[0;32m    271\u001b[0m \u001b[38;5;28;01mif\u001b[39;00m mode \u001b[38;5;241m==\u001b[39m ModeKeys\u001b[38;5;241m.\u001b[39mTRAIN:\n\u001b[0;32m    272\u001b[0m   callbacks\u001b[38;5;241m.\u001b[39mon_epoch_begin(epoch, epoch_logs)\n",
      "File \u001b[1;32m~\\anaconda3\\envs\\ciml\\lib\\site-packages\\tensorflow\\python\\keras\\engine\\training_v1.py:998\u001b[0m, in \u001b[0;36mModel.reset_metrics\u001b[1;34m(self)\u001b[0m\n\u001b[0;32m    996\u001b[0m metrics \u001b[38;5;241m=\u001b[39m \u001b[38;5;28mself\u001b[39m\u001b[38;5;241m.\u001b[39m_get_training_eval_metrics()\n\u001b[0;32m    997\u001b[0m \u001b[38;5;28;01mfor\u001b[39;00m m \u001b[38;5;129;01min\u001b[39;00m metrics:\n\u001b[1;32m--> 998\u001b[0m   \u001b[43mm\u001b[49m\u001b[38;5;241;43m.\u001b[39;49m\u001b[43mreset_states\u001b[49m\u001b[43m(\u001b[49m\u001b[43m)\u001b[49m\n\u001b[0;32m   1000\u001b[0m \u001b[38;5;66;03m# Reset metrics on all the distributed (cloned) models.\u001b[39;00m\n\u001b[0;32m   1001\u001b[0m \u001b[38;5;28;01mif\u001b[39;00m \u001b[38;5;28mself\u001b[39m\u001b[38;5;241m.\u001b[39m_distribution_strategy:\n",
      "File \u001b[1;32m~\\anaconda3\\envs\\ciml\\lib\\site-packages\\tensorflow\\python\\keras\\metrics.py:247\u001b[0m, in \u001b[0;36mMetric.reset_states\u001b[1;34m(self)\u001b[0m\n\u001b[0;32m    241\u001b[0m \u001b[38;5;28;01mdef\u001b[39;00m \u001b[38;5;21mreset_states\u001b[39m(\u001b[38;5;28mself\u001b[39m):\n\u001b[0;32m    242\u001b[0m \u001b[38;5;250m  \u001b[39m\u001b[38;5;124;03m\"\"\"Resets all of the metric state variables.\u001b[39;00m\n\u001b[0;32m    243\u001b[0m \n\u001b[0;32m    244\u001b[0m \u001b[38;5;124;03m  This function is called between epochs/steps,\u001b[39;00m\n\u001b[0;32m    245\u001b[0m \u001b[38;5;124;03m  when a metric is evaluated during training.\u001b[39;00m\n\u001b[0;32m    246\u001b[0m \u001b[38;5;124;03m  \"\"\"\u001b[39;00m\n\u001b[1;32m--> 247\u001b[0m   \u001b[43mK\u001b[49m\u001b[38;5;241;43m.\u001b[39;49m\u001b[43mbatch_set_value\u001b[49m\u001b[43m(\u001b[49m\u001b[43m[\u001b[49m\u001b[43m(\u001b[49m\u001b[43mv\u001b[49m\u001b[43m,\u001b[49m\u001b[43m \u001b[49m\u001b[38;5;241;43m0\u001b[39;49m\u001b[43m)\u001b[49m\u001b[43m \u001b[49m\u001b[38;5;28;43;01mfor\u001b[39;49;00m\u001b[43m \u001b[49m\u001b[43mv\u001b[49m\u001b[43m \u001b[49m\u001b[38;5;129;43;01min\u001b[39;49;00m\u001b[43m \u001b[49m\u001b[38;5;28;43mself\u001b[39;49m\u001b[38;5;241;43m.\u001b[39;49m\u001b[43mvariables\u001b[49m\u001b[43m]\u001b[49m\u001b[43m)\u001b[49m\n",
      "File \u001b[1;32m~\\anaconda3\\envs\\ciml\\lib\\site-packages\\tensorflow\\python\\util\\dispatch.py:201\u001b[0m, in \u001b[0;36madd_dispatch_support.<locals>.wrapper\u001b[1;34m(*args, **kwargs)\u001b[0m\n\u001b[0;32m    199\u001b[0m \u001b[38;5;250m\u001b[39m\u001b[38;5;124;03m\"\"\"Call target, and fall back on dispatchers if there is a TypeError.\"\"\"\u001b[39;00m\n\u001b[0;32m    200\u001b[0m \u001b[38;5;28;01mtry\u001b[39;00m:\n\u001b[1;32m--> 201\u001b[0m   \u001b[38;5;28;01mreturn\u001b[39;00m \u001b[43mtarget\u001b[49m\u001b[43m(\u001b[49m\u001b[38;5;241;43m*\u001b[39;49m\u001b[43margs\u001b[49m\u001b[43m,\u001b[49m\u001b[43m \u001b[49m\u001b[38;5;241;43m*\u001b[39;49m\u001b[38;5;241;43m*\u001b[39;49m\u001b[43mkwargs\u001b[49m\u001b[43m)\u001b[49m\n\u001b[0;32m    202\u001b[0m \u001b[38;5;28;01mexcept\u001b[39;00m (\u001b[38;5;167;01mTypeError\u001b[39;00m, \u001b[38;5;167;01mValueError\u001b[39;00m):\n\u001b[0;32m    203\u001b[0m   \u001b[38;5;66;03m# Note: convert_to_eager_tensor currently raises a ValueError, not a\u001b[39;00m\n\u001b[0;32m    204\u001b[0m   \u001b[38;5;66;03m# TypeError, when given unexpected types.  So we need to catch both.\u001b[39;00m\n\u001b[0;32m    205\u001b[0m   result \u001b[38;5;241m=\u001b[39m dispatch(wrapper, args, kwargs)\n",
      "File \u001b[1;32m~\\anaconda3\\envs\\ciml\\lib\\site-packages\\tensorflow\\python\\keras\\backend.py:3601\u001b[0m, in \u001b[0;36mbatch_set_value\u001b[1;34m(tuples)\u001b[0m\n\u001b[0;32m   3599\u001b[0m   assign_ops\u001b[38;5;241m.\u001b[39mappend(assign_op)\n\u001b[0;32m   3600\u001b[0m   feed_dict[assign_placeholder] \u001b[38;5;241m=\u001b[39m value\n\u001b[1;32m-> 3601\u001b[0m \u001b[43mget_session\u001b[49m\u001b[43m(\u001b[49m\u001b[43m)\u001b[49m\u001b[38;5;241m.\u001b[39mrun(assign_ops, feed_dict\u001b[38;5;241m=\u001b[39mfeed_dict)\n",
      "File \u001b[1;32m~\\anaconda3\\envs\\ciml\\lib\\site-packages\\tensorflow\\python\\keras\\backend.py:630\u001b[0m, in \u001b[0;36mget_session\u001b[1;34m(op_input_list)\u001b[0m\n\u001b[0;32m    628\u001b[0m \u001b[38;5;28;01mif\u001b[39;00m \u001b[38;5;129;01mnot\u001b[39;00m _MANUAL_VAR_INIT:\n\u001b[0;32m    629\u001b[0m   \u001b[38;5;28;01mwith\u001b[39;00m session\u001b[38;5;241m.\u001b[39mgraph\u001b[38;5;241m.\u001b[39mas_default():\n\u001b[1;32m--> 630\u001b[0m     \u001b[43m_initialize_variables\u001b[49m\u001b[43m(\u001b[49m\u001b[43msession\u001b[49m\u001b[43m)\u001b[49m\n\u001b[0;32m    631\u001b[0m \u001b[38;5;28;01mreturn\u001b[39;00m session\n",
      "File \u001b[1;32m~\\anaconda3\\envs\\ciml\\lib\\site-packages\\tensorflow\\python\\keras\\backend.py:1052\u001b[0m, in \u001b[0;36m_initialize_variables\u001b[1;34m(session)\u001b[0m\n\u001b[0;32m   1048\u001b[0m     candidate_vars\u001b[38;5;241m.\u001b[39mappend(v)\n\u001b[0;32m   1049\u001b[0m \u001b[38;5;28;01mif\u001b[39;00m candidate_vars:\n\u001b[0;32m   1050\u001b[0m   \u001b[38;5;66;03m# This step is expensive, so we only run it on variables not already\u001b[39;00m\n\u001b[0;32m   1051\u001b[0m   \u001b[38;5;66;03m# marked as initialized.\u001b[39;00m\n\u001b[1;32m-> 1052\u001b[0m   is_initialized \u001b[38;5;241m=\u001b[39m \u001b[43msession\u001b[49m\u001b[38;5;241;43m.\u001b[39;49m\u001b[43mrun\u001b[49m\u001b[43m(\u001b[49m\n\u001b[0;32m   1053\u001b[0m \u001b[43m      \u001b[49m\u001b[43m[\u001b[49m\u001b[43mvariables_module\u001b[49m\u001b[38;5;241;43m.\u001b[39;49m\u001b[43mis_variable_initialized\u001b[49m\u001b[43m(\u001b[49m\u001b[43mv\u001b[49m\u001b[43m)\u001b[49m\u001b[43m \u001b[49m\u001b[38;5;28;43;01mfor\u001b[39;49;00m\u001b[43m \u001b[49m\u001b[43mv\u001b[49m\u001b[43m \u001b[49m\u001b[38;5;129;43;01min\u001b[39;49;00m\u001b[43m \u001b[49m\u001b[43mcandidate_vars\u001b[49m\u001b[43m]\u001b[49m\u001b[43m)\u001b[49m\n\u001b[0;32m   1054\u001b[0m   \u001b[38;5;66;03m# TODO(kathywu): Some metric variables loaded from SavedModel are never\u001b[39;00m\n\u001b[0;32m   1055\u001b[0m   \u001b[38;5;66;03m# actually used, and do not have an initializer.\u001b[39;00m\n\u001b[0;32m   1056\u001b[0m   should_be_initialized \u001b[38;5;241m=\u001b[39m [\n\u001b[0;32m   1057\u001b[0m       (\u001b[38;5;129;01mnot\u001b[39;00m is_initialized[n]) \u001b[38;5;129;01mand\u001b[39;00m v\u001b[38;5;241m.\u001b[39minitializer \u001b[38;5;129;01mis\u001b[39;00m \u001b[38;5;129;01mnot\u001b[39;00m \u001b[38;5;28;01mNone\u001b[39;00m\n\u001b[0;32m   1058\u001b[0m       \u001b[38;5;28;01mfor\u001b[39;00m n, v \u001b[38;5;129;01min\u001b[39;00m \u001b[38;5;28menumerate\u001b[39m(candidate_vars)]\n",
      "File \u001b[1;32m~\\anaconda3\\envs\\ciml\\lib\\site-packages\\tensorflow\\python\\client\\session.py:957\u001b[0m, in \u001b[0;36mBaseSession.run\u001b[1;34m(self, fetches, feed_dict, options, run_metadata)\u001b[0m\n\u001b[0;32m    954\u001b[0m run_metadata_ptr \u001b[38;5;241m=\u001b[39m tf_session\u001b[38;5;241m.\u001b[39mTF_NewBuffer() \u001b[38;5;28;01mif\u001b[39;00m run_metadata \u001b[38;5;28;01melse\u001b[39;00m \u001b[38;5;28;01mNone\u001b[39;00m\n\u001b[0;32m    956\u001b[0m \u001b[38;5;28;01mtry\u001b[39;00m:\n\u001b[1;32m--> 957\u001b[0m   result \u001b[38;5;241m=\u001b[39m \u001b[38;5;28;43mself\u001b[39;49m\u001b[38;5;241;43m.\u001b[39;49m\u001b[43m_run\u001b[49m\u001b[43m(\u001b[49m\u001b[38;5;28;43;01mNone\u001b[39;49;00m\u001b[43m,\u001b[49m\u001b[43m \u001b[49m\u001b[43mfetches\u001b[49m\u001b[43m,\u001b[49m\u001b[43m \u001b[49m\u001b[43mfeed_dict\u001b[49m\u001b[43m,\u001b[49m\u001b[43m \u001b[49m\u001b[43moptions_ptr\u001b[49m\u001b[43m,\u001b[49m\n\u001b[0;32m    958\u001b[0m \u001b[43m                     \u001b[49m\u001b[43mrun_metadata_ptr\u001b[49m\u001b[43m)\u001b[49m\n\u001b[0;32m    959\u001b[0m   \u001b[38;5;28;01mif\u001b[39;00m run_metadata:\n\u001b[0;32m    960\u001b[0m     proto_data \u001b[38;5;241m=\u001b[39m tf_session\u001b[38;5;241m.\u001b[39mTF_GetBuffer(run_metadata_ptr)\n",
      "File \u001b[1;32m~\\anaconda3\\envs\\ciml\\lib\\site-packages\\tensorflow\\python\\client\\session.py:1180\u001b[0m, in \u001b[0;36mBaseSession._run\u001b[1;34m(self, handle, fetches, feed_dict, options, run_metadata)\u001b[0m\n\u001b[0;32m   1177\u001b[0m \u001b[38;5;66;03m# We only want to really perform the run if fetches or targets are provided,\u001b[39;00m\n\u001b[0;32m   1178\u001b[0m \u001b[38;5;66;03m# or if the call is a partial run that specifies feeds.\u001b[39;00m\n\u001b[0;32m   1179\u001b[0m \u001b[38;5;28;01mif\u001b[39;00m final_fetches \u001b[38;5;129;01mor\u001b[39;00m final_targets \u001b[38;5;129;01mor\u001b[39;00m (handle \u001b[38;5;129;01mand\u001b[39;00m feed_dict_tensor):\n\u001b[1;32m-> 1180\u001b[0m   results \u001b[38;5;241m=\u001b[39m \u001b[38;5;28;43mself\u001b[39;49m\u001b[38;5;241;43m.\u001b[39;49m\u001b[43m_do_run\u001b[49m\u001b[43m(\u001b[49m\u001b[43mhandle\u001b[49m\u001b[43m,\u001b[49m\u001b[43m \u001b[49m\u001b[43mfinal_targets\u001b[49m\u001b[43m,\u001b[49m\u001b[43m \u001b[49m\u001b[43mfinal_fetches\u001b[49m\u001b[43m,\u001b[49m\n\u001b[0;32m   1181\u001b[0m \u001b[43m                         \u001b[49m\u001b[43mfeed_dict_tensor\u001b[49m\u001b[43m,\u001b[49m\u001b[43m \u001b[49m\u001b[43moptions\u001b[49m\u001b[43m,\u001b[49m\u001b[43m \u001b[49m\u001b[43mrun_metadata\u001b[49m\u001b[43m)\u001b[49m\n\u001b[0;32m   1182\u001b[0m \u001b[38;5;28;01melse\u001b[39;00m:\n\u001b[0;32m   1183\u001b[0m   results \u001b[38;5;241m=\u001b[39m []\n",
      "File \u001b[1;32m~\\anaconda3\\envs\\ciml\\lib\\site-packages\\tensorflow\\python\\client\\session.py:1358\u001b[0m, in \u001b[0;36mBaseSession._do_run\u001b[1;34m(self, handle, target_list, fetch_list, feed_dict, options, run_metadata)\u001b[0m\n\u001b[0;32m   1355\u001b[0m   \u001b[38;5;28;01mreturn\u001b[39;00m \u001b[38;5;28mself\u001b[39m\u001b[38;5;241m.\u001b[39m_call_tf_sessionprun(handle, feed_dict, fetch_list)\n\u001b[0;32m   1357\u001b[0m \u001b[38;5;28;01mif\u001b[39;00m handle \u001b[38;5;129;01mis\u001b[39;00m \u001b[38;5;28;01mNone\u001b[39;00m:\n\u001b[1;32m-> 1358\u001b[0m   \u001b[38;5;28;01mreturn\u001b[39;00m \u001b[38;5;28;43mself\u001b[39;49m\u001b[38;5;241;43m.\u001b[39;49m\u001b[43m_do_call\u001b[49m\u001b[43m(\u001b[49m\u001b[43m_run_fn\u001b[49m\u001b[43m,\u001b[49m\u001b[43m \u001b[49m\u001b[43mfeeds\u001b[49m\u001b[43m,\u001b[49m\u001b[43m \u001b[49m\u001b[43mfetches\u001b[49m\u001b[43m,\u001b[49m\u001b[43m \u001b[49m\u001b[43mtargets\u001b[49m\u001b[43m,\u001b[49m\u001b[43m \u001b[49m\u001b[43moptions\u001b[49m\u001b[43m,\u001b[49m\n\u001b[0;32m   1359\u001b[0m \u001b[43m                       \u001b[49m\u001b[43mrun_metadata\u001b[49m\u001b[43m)\u001b[49m\n\u001b[0;32m   1360\u001b[0m \u001b[38;5;28;01melse\u001b[39;00m:\n\u001b[0;32m   1361\u001b[0m   \u001b[38;5;28;01mreturn\u001b[39;00m \u001b[38;5;28mself\u001b[39m\u001b[38;5;241m.\u001b[39m_do_call(_prun_fn, handle, feeds, fetches)\n",
      "File \u001b[1;32m~\\anaconda3\\envs\\ciml\\lib\\site-packages\\tensorflow\\python\\client\\session.py:1365\u001b[0m, in \u001b[0;36mBaseSession._do_call\u001b[1;34m(self, fn, *args)\u001b[0m\n\u001b[0;32m   1363\u001b[0m \u001b[38;5;28;01mdef\u001b[39;00m \u001b[38;5;21m_do_call\u001b[39m(\u001b[38;5;28mself\u001b[39m, fn, \u001b[38;5;241m*\u001b[39margs):\n\u001b[0;32m   1364\u001b[0m   \u001b[38;5;28;01mtry\u001b[39;00m:\n\u001b[1;32m-> 1365\u001b[0m     \u001b[38;5;28;01mreturn\u001b[39;00m \u001b[43mfn\u001b[49m\u001b[43m(\u001b[49m\u001b[38;5;241;43m*\u001b[39;49m\u001b[43margs\u001b[49m\u001b[43m)\u001b[49m\n\u001b[0;32m   1366\u001b[0m   \u001b[38;5;28;01mexcept\u001b[39;00m errors\u001b[38;5;241m.\u001b[39mOpError \u001b[38;5;28;01mas\u001b[39;00m e:\n\u001b[0;32m   1367\u001b[0m     message \u001b[38;5;241m=\u001b[39m compat\u001b[38;5;241m.\u001b[39mas_text(e\u001b[38;5;241m.\u001b[39mmessage)\n",
      "File \u001b[1;32m~\\anaconda3\\envs\\ciml\\lib\\site-packages\\tensorflow\\python\\client\\session.py:1348\u001b[0m, in \u001b[0;36mBaseSession._do_run.<locals>._run_fn\u001b[1;34m(feed_dict, fetch_list, target_list, options, run_metadata)\u001b[0m\n\u001b[0;32m   1346\u001b[0m \u001b[38;5;28;01mdef\u001b[39;00m \u001b[38;5;21m_run_fn\u001b[39m(feed_dict, fetch_list, target_list, options, run_metadata):\n\u001b[0;32m   1347\u001b[0m   \u001b[38;5;66;03m# Ensure any changes to the graph are reflected in the runtime.\u001b[39;00m\n\u001b[1;32m-> 1348\u001b[0m   \u001b[38;5;28;43mself\u001b[39;49m\u001b[38;5;241;43m.\u001b[39;49m\u001b[43m_extend_graph\u001b[49m\u001b[43m(\u001b[49m\u001b[43m)\u001b[49m\n\u001b[0;32m   1349\u001b[0m   \u001b[38;5;28;01mreturn\u001b[39;00m \u001b[38;5;28mself\u001b[39m\u001b[38;5;241m.\u001b[39m_call_tf_sessionrun(options, feed_dict, fetch_list,\n\u001b[0;32m   1350\u001b[0m                                   target_list, run_metadata)\n",
      "File \u001b[1;32m~\\anaconda3\\envs\\ciml\\lib\\site-packages\\tensorflow\\python\\client\\session.py:1388\u001b[0m, in \u001b[0;36mBaseSession._extend_graph\u001b[1;34m(self)\u001b[0m\n\u001b[0;32m   1386\u001b[0m \u001b[38;5;28;01mdef\u001b[39;00m \u001b[38;5;21m_extend_graph\u001b[39m(\u001b[38;5;28mself\u001b[39m):\n\u001b[0;32m   1387\u001b[0m   \u001b[38;5;28;01mwith\u001b[39;00m \u001b[38;5;28mself\u001b[39m\u001b[38;5;241m.\u001b[39m_graph\u001b[38;5;241m.\u001b[39m_session_run_lock():  \u001b[38;5;66;03m# pylint: disable=protected-access\u001b[39;00m\n\u001b[1;32m-> 1388\u001b[0m     \u001b[43mtf_session\u001b[49m\u001b[38;5;241;43m.\u001b[39;49m\u001b[43mExtendSession\u001b[49m\u001b[43m(\u001b[49m\u001b[38;5;28;43mself\u001b[39;49m\u001b[38;5;241;43m.\u001b[39;49m\u001b[43m_session\u001b[49m\u001b[43m)\u001b[49m\n",
      "\u001b[1;31mKeyboardInterrupt\u001b[0m: "
     ]
    }
   ],
   "source": [
    "# Do Hyperparameter Tuning\n",
    "study = optuna_study(train_val_images, train_val_labels)"
   ]
  },
  {
   "cell_type": "code",
   "execution_count": null,
   "id": "03bb1e0d-4cda-4ac2-8a39-8ae24276ddd7",
   "metadata": {},
   "outputs": [],
   "source": []
  },
  {
   "cell_type": "code",
   "execution_count": null,
   "id": "89173c86-e03c-45e2-8161-4fa9e886a4f9",
   "metadata": {},
   "outputs": [],
   "source": []
  },
  {
   "cell_type": "code",
   "execution_count": null,
   "id": "ae8d15ad-3187-4625-abda-458a58f1e81c",
   "metadata": {},
   "outputs": [],
   "source": []
  },
  {
   "cell_type": "code",
   "execution_count": null,
   "id": "1626dfc3-8883-4366-b83c-e50e4e65f005",
   "metadata": {},
   "outputs": [],
   "source": []
  },
  {
   "cell_type": "code",
   "execution_count": 101,
   "id": "8bcf0a11-a588-4c73-8d9f-cdb572e23072",
   "metadata": {
    "editable": true,
    "slideshow": {
     "slide_type": ""
    },
    "tags": []
   },
   "outputs": [],
   "source": [
    "def deployed_model_workflow(train_val_images, train_val_labels, test_images, test_labels, optimal_params):\n",
    "    if mlflow.active_run():\n",
    "        mlflow.end_run()\n",
    "\n",
    "    mlflow.set_tracking_uri(\"http://127.0.0.1:8080\")\n",
    "    mlflow.set_experiment(\"Deep learning classification sclerotic vs non-sclerotic\")\n",
    "    \n",
    "    vae_model, encoder, decoder = encoder_decoder(\n",
    "        num_layers=optimal_params[\"num_layers\"],\n",
    "        activation_function=optimal_params[\"activation_function\"],\n",
    "        filter_counts=[optimal_params[f\"filters_{i}\"] for i in range(optimal_params[\"num_layers\"])]\n",
    "    )\n",
    "    \n",
    "    z_mean, z_log_var, _ = encoder.output\n",
    "\n",
    "    vae_model.compile(optimizer=\"adam\", \n",
    "                      loss={'classification_output': 'categorical_crossentropy', \n",
    "                            'decoder': vae_loss_parameters(z_mean, z_log_var)},\n",
    "                      metrics={'classification_output': ['accuracy', \n",
    "                                                         tf.keras.metrics.Precision(name='precision'), \n",
    "                                                         tf.keras.metrics.Recall(name='recall'), \n",
    "                                                         tf.keras.metrics.AUC(name='auc')]})\n",
    "\n",
    "    one_hot_train_labels = tf.keras.utils.to_categorical(train_val_labels)\n",
    "    \n",
    "    history = vae_model.fit(train_val_images, \n",
    "                            [one_hot_train_labels, train_val_images], \n",
    "                            batch_size=32, \n",
    "                            epochs=50, \n",
    "                            verbose=1)\n",
    "    \n",
    "    one_hot_test_labels = tf.keras.utils.to_categorical(test_labels)\n",
    "    test_results = vae_model.evaluate(test_images, [one_hot_test_labels, test_images], verbose=1)\n",
    "\n",
    "    with mlflow.start_run(run_name=\"Final_VAE_Model\"):\n",
    "        mlflow.log_param(\"num_layers\", optimal_params[\"num_layers\"])\n",
    "        mlflow.log_param(\"activation_function\", optimal_params[\"activation_function\"])\n",
    "        mlflow.log_param(\"filter_counts\", [optimal_params[f\"filters_{i}\"] for i in range(optimal_params[\"num_layers\"])])\n",
    "\n",
    "        mlflow.log_metric(\"test_classification_accuracy\", test_results[3])\n",
    "        mlflow.log_metric(\"test_precision\", test_results[4])\n",
    "        mlflow.log_metric(\"test_recall\", test_results[5])\n",
    "        mlflow.log_metric(\"test_auc\", test_results[6])\n",
    "\n",
    "        vae_model.save('best_deployed_vae_model.h5')\n",
    "        \n",
    "        signature = infer_signature(train_val_images, vae_model.predict(train_val_images))\n",
    "        mlflow.keras.log_model(vae_model, \"vae_model\", signature=signature)\n",
    "\n",
    "    mlflow.end_run()\n",
    "\n",
    "    return vae_model\n"
   ]
  },
  {
   "cell_type": "code",
   "execution_count": null,
   "id": "99809fbb-a981-4528-9d19-c83e2d5b200e",
   "metadata": {},
   "outputs": [],
   "source": []
  },
  {
   "cell_type": "markdown",
   "id": "aa096a31-5aaa-49eb-95b4-350eb734b912",
   "metadata": {},
   "source": [
    "optimal parameters taken from first trial: [I 2024-10-14 12:54:47,387] Trial 0 finished with value: 30464.67412810825 and parameters: {'num_layers': 3, 'filters_0': 39, 'filters_1': 105, 'filters_2': 21, 'activation_function': 'relu'}. Best is trial 0 with value: 30464.67412810825."
   ]
  },
  {
   "cell_type": "code",
   "execution_count": null,
   "id": "d317e5fa-044e-488e-9d74-2f06d12401e9",
   "metadata": {},
   "outputs": [],
   "source": []
  },
  {
   "cell_type": "code",
   "execution_count": 102,
   "id": "01486313-cabb-40fa-a2dd-7e822d25c7b8",
   "metadata": {
    "editable": true,
    "slideshow": {
     "slide_type": ""
    },
    "tags": []
   },
   "outputs": [
    {
     "name": "stderr",
     "output_type": "stream",
     "text": [
      "2024/10/15 04:40:23 INFO mlflow.tracking.fluent: Experiment with name 'Deep learning classification sclerotic vs non-sclerotic' does not exist. Creating a new experiment.\n"
     ]
    },
    {
     "name": "stdout",
     "output_type": "stream",
     "text": [
      "Train on 4606 samples\n",
      "Epoch 1/50\n",
      "4606/4606 [==============================] - 263s 57ms/sample - loss: 112629.9600 - classification_output_loss: 0.7214 - decoder_loss: 112594.1641 - classification_output_accuracy: 0.7197 - classification_output_precision: 0.7197 - classification_output_recall: 0.7197 - classification_output_auc: 0.7607\n",
      "Epoch 2/50\n",
      "4606/4606 [==============================] - 274s 60ms/sample - loss: 30847.6169 - classification_output_loss: 0.6976 - decoder_loss: 30846.8828 - classification_output_accuracy: 0.7625 - classification_output_precision: 0.7625 - classification_output_recall: 0.7625 - classification_output_auc: 0.7933\n",
      "Epoch 3/50\n",
      "4606/4606 [==============================] - 275s 60ms/sample - loss: 30669.3719 - classification_output_loss: 0.8114 - decoder_loss: 30668.6113 - classification_output_accuracy: 0.7540 - classification_output_precision: 0.7540 - classification_output_recall: 0.7540 - classification_output_auc: 0.7813\n",
      "Epoch 4/50\n",
      "4606/4606 [==============================] - 274s 59ms/sample - loss: 30589.0027 - classification_output_loss: 0.6591 - decoder_loss: 30587.9590 - classification_output_accuracy: 0.7623 - classification_output_precision: 0.7623 - classification_output_recall: 0.7623 - classification_output_auc: 0.7951\n",
      "Epoch 5/50\n",
      "4606/4606 [==============================] - 274s 59ms/sample - loss: 30564.5343 - classification_output_loss: 0.5517 - decoder_loss: 30564.3516 - classification_output_accuracy: 0.7851 - classification_output_precision: 0.7851 - classification_output_recall: 0.7851 - classification_output_auc: 0.8213\n",
      "Epoch 6/50\n",
      "4606/4606 [==============================] - 274s 59ms/sample - loss: 30557.0260 - classification_output_loss: 0.4963 - decoder_loss: 30556.5977 - classification_output_accuracy: 0.8026 - classification_output_precision: 0.8026 - classification_output_recall: 0.8026 - classification_output_auc: 0.8401\n",
      "Epoch 7/50\n",
      "4606/4606 [==============================] - 274s 59ms/sample - loss: 30557.7617 - classification_output_loss: 0.4621 - decoder_loss: 30557.0625 - classification_output_accuracy: 0.8146 - classification_output_precision: 0.8146 - classification_output_recall: 0.8146 - classification_output_auc: 0.8584\n",
      "Epoch 8/50\n",
      "4606/4606 [==============================] - 273s 59ms/sample - loss: 30543.5806 - classification_output_loss: 0.4418 - decoder_loss: 30542.7578 - classification_output_accuracy: 0.8189 - classification_output_precision: 0.8189 - classification_output_recall: 0.8189 - classification_output_auc: 0.8723\n",
      "Epoch 9/50\n",
      "4606/4606 [==============================] - 272s 59ms/sample - loss: 30535.0664 - classification_output_loss: 0.4310 - decoder_loss: 30534.6973 - classification_output_accuracy: 0.8187 - classification_output_precision: 0.8187 - classification_output_recall: 0.8187 - classification_output_auc: 0.8817\n",
      "Epoch 10/50\n",
      "4606/4606 [==============================] - 272s 59ms/sample - loss: 30533.9179 - classification_output_loss: 0.4225 - decoder_loss: 30533.7422 - classification_output_accuracy: 0.8250 - classification_output_precision: 0.8250 - classification_output_recall: 0.8250 - classification_output_auc: 0.8869\n",
      "Epoch 11/50\n",
      "4606/4606 [==============================] - 272s 59ms/sample - loss: 30523.1032 - classification_output_loss: 0.4154 - decoder_loss: 30522.8164 - classification_output_accuracy: 0.8298 - classification_output_precision: 0.8298 - classification_output_recall: 0.8298 - classification_output_auc: 0.8910\n",
      "Epoch 12/50\n",
      "4606/4606 [==============================] - 272s 59ms/sample - loss: 30519.6192 - classification_output_loss: 0.4120 - decoder_loss: 30519.2598 - classification_output_accuracy: 0.8302 - classification_output_precision: 0.8302 - classification_output_recall: 0.8302 - classification_output_auc: 0.8928\n",
      "Epoch 13/50\n",
      "4606/4606 [==============================] - 272s 59ms/sample - loss: 30519.3425 - classification_output_loss: 0.4102 - decoder_loss: 30518.7227 - classification_output_accuracy: 0.8330 - classification_output_precision: 0.8330 - classification_output_recall: 0.8330 - classification_output_auc: 0.8934\n",
      "Epoch 14/50\n",
      "4606/4606 [==============================] - 273s 59ms/sample - loss: 30509.4634 - classification_output_loss: 0.4071 - decoder_loss: 30509.2500 - classification_output_accuracy: 0.8313 - classification_output_precision: 0.8313 - classification_output_recall: 0.8313 - classification_output_auc: 0.8952\n",
      "Epoch 15/50\n",
      "4606/4606 [==============================] - 272s 59ms/sample - loss: 30515.9072 - classification_output_loss: 0.4070 - decoder_loss: 30515.3027 - classification_output_accuracy: 0.8341 - classification_output_precision: 0.8341 - classification_output_recall: 0.8341 - classification_output_auc: 0.8950\n",
      "Epoch 16/50\n",
      "4606/4606 [==============================] - 272s 59ms/sample - loss: 30506.9940 - classification_output_loss: 0.4064 - decoder_loss: 30506.5977 - classification_output_accuracy: 0.8322 - classification_output_precision: 0.8322 - classification_output_recall: 0.8322 - classification_output_auc: 0.8952\n",
      "Epoch 17/50\n",
      "4606/4606 [==============================] - 272s 59ms/sample - loss: 30500.3876 - classification_output_loss: 0.4050 - decoder_loss: 30499.8750 - classification_output_accuracy: 0.8330 - classification_output_precision: 0.8330 - classification_output_recall: 0.8330 - classification_output_auc: 0.8963\n",
      "Epoch 18/50\n",
      "4606/4606 [==============================] - 273s 59ms/sample - loss: 30503.1203 - classification_output_loss: 0.4062 - decoder_loss: 30502.8164 - classification_output_accuracy: 0.8333 - classification_output_precision: 0.8333 - classification_output_recall: 0.8333 - classification_output_auc: 0.8959\n",
      "Epoch 19/50\n",
      "4606/4606 [==============================] - 273s 59ms/sample - loss: 30498.7453 - classification_output_loss: 0.4045 - decoder_loss: 30498.7715 - classification_output_accuracy: 0.8341 - classification_output_precision: 0.8341 - classification_output_recall: 0.8341 - classification_output_auc: 0.8968\n",
      "Epoch 20/50\n",
      "4606/4606 [==============================] - 272s 59ms/sample - loss: 30492.1649 - classification_output_loss: 0.4039 - decoder_loss: 30491.4590 - classification_output_accuracy: 0.8337 - classification_output_precision: 0.8337 - classification_output_recall: 0.8337 - classification_output_auc: 0.8969\n",
      "Epoch 21/50\n",
      "4606/4606 [==============================] - 273s 59ms/sample - loss: 30496.6565 - classification_output_loss: 0.4065 - decoder_loss: 30496.1348 - classification_output_accuracy: 0.8328 - classification_output_precision: 0.8328 - classification_output_recall: 0.8328 - classification_output_auc: 0.8959\n",
      "Epoch 22/50\n",
      "4606/4606 [==============================] - 272s 59ms/sample - loss: 30489.1884 - classification_output_loss: 0.4049 - decoder_loss: 30488.3398 - classification_output_accuracy: 0.8326 - classification_output_precision: 0.8326 - classification_output_recall: 0.8326 - classification_output_auc: 0.8968\n",
      "Epoch 23/50\n",
      "4606/4606 [==============================] - 273s 59ms/sample - loss: 30484.0359 - classification_output_loss: 0.4054 - decoder_loss: 30483.6387 - classification_output_accuracy: 0.8328 - classification_output_precision: 0.8328 - classification_output_recall: 0.8328 - classification_output_auc: 0.8963\n",
      "Epoch 24/50\n",
      "4606/4606 [==============================] - 273s 59ms/sample - loss: 30482.6202 - classification_output_loss: 0.4056 - decoder_loss: 30482.0586 - classification_output_accuracy: 0.8339 - classification_output_precision: 0.8339 - classification_output_recall: 0.8339 - classification_output_auc: 0.8965\n",
      "Epoch 25/50\n",
      "4606/4606 [==============================] - 273s 59ms/sample - loss: 30480.6832 - classification_output_loss: 0.4060 - decoder_loss: 30479.8477 - classification_output_accuracy: 0.8315 - classification_output_precision: 0.8315 - classification_output_recall: 0.8315 - classification_output_auc: 0.8959\n",
      "Epoch 26/50\n",
      "4606/4606 [==============================] - 272s 59ms/sample - loss: 30484.8319 - classification_output_loss: 0.4058 - decoder_loss: 30484.7891 - classification_output_accuracy: 0.8333 - classification_output_precision: 0.8333 - classification_output_recall: 0.8333 - classification_output_auc: 0.8964\n",
      "Epoch 27/50\n",
      "4606/4606 [==============================] - 272s 59ms/sample - loss: 30480.6997 - classification_output_loss: 0.4074 - decoder_loss: 30480.2812 - classification_output_accuracy: 0.8322 - classification_output_precision: 0.8322 - classification_output_recall: 0.8322 - classification_output_auc: 0.8954\n",
      "Epoch 28/50\n",
      "4606/4606 [==============================] - 273s 59ms/sample - loss: 30473.0758 - classification_output_loss: 0.4052 - decoder_loss: 30472.6172 - classification_output_accuracy: 0.8341 - classification_output_precision: 0.8341 - classification_output_recall: 0.8341 - classification_output_auc: 0.8968\n",
      "Epoch 29/50\n",
      "4606/4606 [==============================] - 273s 59ms/sample - loss: 30470.5487 - classification_output_loss: 0.4045 - decoder_loss: 30470.0586 - classification_output_accuracy: 0.8352 - classification_output_precision: 0.8352 - classification_output_recall: 0.8352 - classification_output_auc: 0.8968\n",
      "Epoch 30/50\n",
      "4606/4606 [==============================] - 274s 59ms/sample - loss: 30472.0648 - classification_output_loss: 0.4071 - decoder_loss: 30471.6484 - classification_output_accuracy: 0.8335 - classification_output_precision: 0.8335 - classification_output_recall: 0.8335 - classification_output_auc: 0.8954\n",
      "Epoch 31/50\n",
      "4606/4606 [==============================] - 273s 59ms/sample - loss: 30474.8289 - classification_output_loss: 0.4054 - decoder_loss: 30474.5391 - classification_output_accuracy: 0.8315 - classification_output_precision: 0.8315 - classification_output_recall: 0.8315 - classification_output_auc: 0.8965\n",
      "Epoch 32/50\n",
      "4606/4606 [==============================] - 273s 59ms/sample - loss: 30468.4844 - classification_output_loss: 0.4059 - decoder_loss: 30468.4414 - classification_output_accuracy: 0.8350 - classification_output_precision: 0.8350 - classification_output_recall: 0.8350 - classification_output_auc: 0.8960\n",
      "Epoch 33/50\n",
      "4606/4606 [==============================] - 273s 59ms/sample - loss: 30473.9705 - classification_output_loss: 0.4056 - decoder_loss: 30473.3477 - classification_output_accuracy: 0.8343 - classification_output_precision: 0.8343 - classification_output_recall: 0.8343 - classification_output_auc: 0.8964\n",
      "Epoch 34/50\n",
      "4606/4606 [==============================] - 273s 59ms/sample - loss: 30477.2438 - classification_output_loss: 0.4076 - decoder_loss: 30476.7715 - classification_output_accuracy: 0.8322 - classification_output_precision: 0.8322 - classification_output_recall: 0.8322 - classification_output_auc: 0.8954\n",
      "Epoch 35/50\n",
      "4606/4606 [==============================] - 275s 60ms/sample - loss: 30466.1530 - classification_output_loss: 0.4061 - decoder_loss: 30465.3887 - classification_output_accuracy: 0.8333 - classification_output_precision: 0.8333 - classification_output_recall: 0.8333 - classification_output_auc: 0.8963\n",
      "Epoch 36/50\n",
      "4606/4606 [==============================] - 273s 59ms/sample - loss: 30459.4274 - classification_output_loss: 0.4063 - decoder_loss: 30459.2578 - classification_output_accuracy: 0.8320 - classification_output_precision: 0.8320 - classification_output_recall: 0.8320 - classification_output_auc: 0.8960\n",
      "Epoch 37/50\n",
      "4606/4606 [==============================] - 273s 59ms/sample - loss: 30458.7380 - classification_output_loss: 0.4058 - decoder_loss: 30458.3926 - classification_output_accuracy: 0.8328 - classification_output_precision: 0.8328 - classification_output_recall: 0.8328 - classification_output_auc: 0.8964\n",
      "Epoch 38/50\n",
      "4606/4606 [==============================] - 273s 59ms/sample - loss: 30460.6182 - classification_output_loss: 0.4063 - decoder_loss: 30460.3301 - classification_output_accuracy: 0.8322 - classification_output_precision: 0.8322 - classification_output_recall: 0.8322 - classification_output_auc: 0.8960\n",
      "Epoch 39/50\n",
      "4606/4606 [==============================] - 273s 59ms/sample - loss: 30455.2527 - classification_output_loss: 0.4066 - decoder_loss: 30455.3125 - classification_output_accuracy: 0.8335 - classification_output_precision: 0.8335 - classification_output_recall: 0.8335 - classification_output_auc: 0.8957\n",
      "Epoch 40/50\n",
      "4606/4606 [==============================] - 273s 59ms/sample - loss: 30457.7340 - classification_output_loss: 0.4069 - decoder_loss: 30457.2734 - classification_output_accuracy: 0.8317 - classification_output_precision: 0.8317 - classification_output_recall: 0.8317 - classification_output_auc: 0.8956\n",
      "Epoch 41/50\n",
      "4606/4606 [==============================] - 274s 60ms/sample - loss: 30452.1355 - classification_output_loss: 0.4062 - decoder_loss: 30452.0234 - classification_output_accuracy: 0.8322 - classification_output_precision: 0.8322 - classification_output_recall: 0.8322 - classification_output_auc: 0.8960\n",
      "Epoch 42/50\n",
      "4606/4606 [==============================] - 275s 60ms/sample - loss: 30455.3678 - classification_output_loss: 0.4074 - decoder_loss: 30455.0391 - classification_output_accuracy: 0.8313 - classification_output_precision: 0.8313 - classification_output_recall: 0.8313 - classification_output_auc: 0.8954\n",
      "Epoch 43/50\n",
      "4606/4606 [==============================] - 273s 59ms/sample - loss: 30450.9342 - classification_output_loss: 0.4071 - decoder_loss: 30450.4766 - classification_output_accuracy: 0.8322 - classification_output_precision: 0.8322 - classification_output_recall: 0.8322 - classification_output_auc: 0.8954\n",
      "Epoch 44/50\n",
      "4606/4606 [==============================] - 273s 59ms/sample - loss: 30450.0607 - classification_output_loss: 0.4070 - decoder_loss: 30449.4590 - classification_output_accuracy: 0.8315 - classification_output_precision: 0.8315 - classification_output_recall: 0.8315 - classification_output_auc: 0.8955\n",
      "Epoch 45/50\n",
      "4606/4606 [==============================] - 274s 59ms/sample - loss: 30449.5536 - classification_output_loss: 0.4067 - decoder_loss: 30449.1113 - classification_output_accuracy: 0.8309 - classification_output_precision: 0.8309 - classification_output_recall: 0.8309 - classification_output_auc: 0.8956\n",
      "Epoch 46/50\n",
      "4606/4606 [==============================] - 274s 59ms/sample - loss: 30453.9165 - classification_output_loss: 0.4075 - decoder_loss: 30453.6211 - classification_output_accuracy: 0.8302 - classification_output_precision: 0.8302 - classification_output_recall: 0.8302 - classification_output_auc: 0.8954\n",
      "Epoch 47/50\n",
      "4606/4606 [==============================] - 273s 59ms/sample - loss: 30449.6896 - classification_output_loss: 0.4072 - decoder_loss: 30449.1465 - classification_output_accuracy: 0.8320 - classification_output_precision: 0.8320 - classification_output_recall: 0.8320 - classification_output_auc: 0.8954\n",
      "Epoch 48/50\n",
      "4606/4606 [==============================] - 273s 59ms/sample - loss: 30447.4486 - classification_output_loss: 0.4082 - decoder_loss: 30446.7598 - classification_output_accuracy: 0.8307 - classification_output_precision: 0.8307 - classification_output_recall: 0.8307 - classification_output_auc: 0.8950\n",
      "Epoch 49/50\n",
      "4606/4606 [==============================] - 273s 59ms/sample - loss: 30441.7606 - classification_output_loss: 0.4073 - decoder_loss: 30441.4551 - classification_output_accuracy: 0.8313 - classification_output_precision: 0.8313 - classification_output_recall: 0.8313 - classification_output_auc: 0.8954\n",
      "Epoch 50/50\n",
      "4606/4606 [==============================] - 272s 59ms/sample - loss: 30439.7333 - classification_output_loss: 0.4072 - decoder_loss: 30439.2852 - classification_output_accuracy: 0.8311 - classification_output_precision: 0.8311 - classification_output_recall: 0.8311 - classification_output_auc: 0.8956\n"
     ]
    },
    {
     "name": "stderr",
     "output_type": "stream",
     "text": [
      "2024/10/15 17:30:02 INFO mlflow.tracking._tracking_service.client: 🏃 View run Final_VAE_Model at: http://127.0.0.1:8080/#/experiments/11/runs/12bd7fbc508c469dbaf12d25e9d3b80c.\n",
      "2024/10/15 17:30:02 INFO mlflow.tracking._tracking_service.client: 🧪 View experiment at: http://127.0.0.1:8080/#/experiments/11.\n"
     ]
    },
    {
     "ename": "KeyboardInterrupt",
     "evalue": "",
     "output_type": "error",
     "traceback": [
      "\u001b[1;31m---------------------------------------------------------------------------\u001b[0m",
      "\u001b[1;31mKeyboardInterrupt\u001b[0m                         Traceback (most recent call last)",
      "Cell \u001b[1;32mIn[102], line 9\u001b[0m\n\u001b[0;32m      1\u001b[0m optimal_params \u001b[38;5;241m=\u001b[39m {\n\u001b[0;32m      2\u001b[0m     \u001b[38;5;124m\"\u001b[39m\u001b[38;5;124mnum_layers\u001b[39m\u001b[38;5;124m\"\u001b[39m: \u001b[38;5;241m3\u001b[39m,\n\u001b[0;32m      3\u001b[0m     \u001b[38;5;124m\"\u001b[39m\u001b[38;5;124mfilters_0\u001b[39m\u001b[38;5;124m\"\u001b[39m: \u001b[38;5;241m39\u001b[39m,\n\u001b[1;32m   (...)\u001b[0m\n\u001b[0;32m      6\u001b[0m     \u001b[38;5;124m\"\u001b[39m\u001b[38;5;124mactivation_function\u001b[39m\u001b[38;5;124m\"\u001b[39m: \u001b[38;5;124m\"\u001b[39m\u001b[38;5;124mrelu\u001b[39m\u001b[38;5;124m\"\u001b[39m\n\u001b[0;32m      7\u001b[0m }\n\u001b[1;32m----> 9\u001b[0m deployed_model \u001b[38;5;241m=\u001b[39m \u001b[43mdeployed_model_workflow\u001b[49m\u001b[43m(\u001b[49m\u001b[43mtrain_val_images\u001b[49m\u001b[43m,\u001b[49m\u001b[43m \u001b[49m\u001b[43mtrain_val_labels\u001b[49m\u001b[43m,\u001b[49m\u001b[43m \u001b[49m\u001b[43mtest_images\u001b[49m\u001b[43m,\u001b[49m\u001b[43m \u001b[49m\u001b[43mtest_labels\u001b[49m\u001b[43m,\u001b[49m\u001b[43m \u001b[49m\u001b[43moptimal_params\u001b[49m\u001b[43m)\u001b[49m\n",
      "Cell \u001b[1;32mIn[101], line 47\u001b[0m, in \u001b[0;36mdeployed_model_workflow\u001b[1;34m(train_val_images, train_val_labels, test_images, test_labels, optimal_params)\u001b[0m\n\u001b[0;32m     43\u001b[0m     mlflow\u001b[38;5;241m.\u001b[39mlog_metric(\u001b[38;5;124m\"\u001b[39m\u001b[38;5;124mtest_auc\u001b[39m\u001b[38;5;124m\"\u001b[39m, test_results[\u001b[38;5;241m6\u001b[39m])\n\u001b[0;32m     45\u001b[0m     vae_model\u001b[38;5;241m.\u001b[39msave(\u001b[38;5;124m'\u001b[39m\u001b[38;5;124mbest_deployed_vae_model.h5\u001b[39m\u001b[38;5;124m'\u001b[39m)\n\u001b[1;32m---> 47\u001b[0m     signature \u001b[38;5;241m=\u001b[39m \u001b[43minfer_signature\u001b[49m\u001b[43m(\u001b[49m\u001b[43mtrain_val_images\u001b[49m\u001b[43m,\u001b[49m\u001b[43m \u001b[49m\u001b[43mvae_model\u001b[49m\u001b[38;5;241;43m.\u001b[39;49m\u001b[43mpredict\u001b[49m\u001b[43m(\u001b[49m\u001b[43mtrain_val_images\u001b[49m\u001b[43m)\u001b[49m\u001b[43m)\u001b[49m\n\u001b[0;32m     48\u001b[0m     mlflow\u001b[38;5;241m.\u001b[39mkeras\u001b[38;5;241m.\u001b[39mlog_model(vae_model, \u001b[38;5;124m\"\u001b[39m\u001b[38;5;124mvae_model\u001b[39m\u001b[38;5;124m\"\u001b[39m, signature\u001b[38;5;241m=\u001b[39msignature)\n\u001b[0;32m     50\u001b[0m mlflow\u001b[38;5;241m.\u001b[39mend_run()\n",
      "File \u001b[1;32m~\\anaconda3\\envs\\ciml\\lib\\site-packages\\mlflow\\models\\signature.py:229\u001b[0m, in \u001b[0;36minfer_signature\u001b[1;34m(model_input, model_output, params)\u001b[0m\n\u001b[0;32m    157\u001b[0m \u001b[38;5;250m\u001b[39m\u001b[38;5;124;03m\"\"\"\u001b[39;00m\n\u001b[0;32m    158\u001b[0m \u001b[38;5;124;03mInfer an MLflow model signature from the training data (input), model predictions (output)\u001b[39;00m\n\u001b[0;32m    159\u001b[0m \u001b[38;5;124;03mand parameters (for inference).\u001b[39;00m\n\u001b[1;32m   (...)\u001b[0m\n\u001b[0;32m    226\u001b[0m \u001b[38;5;124;03m  ModelSignature\u001b[39;00m\n\u001b[0;32m    227\u001b[0m \u001b[38;5;124;03m\"\"\"\u001b[39;00m\n\u001b[0;32m    228\u001b[0m inputs \u001b[38;5;241m=\u001b[39m _infer_schema(model_input) \u001b[38;5;28;01mif\u001b[39;00m model_input \u001b[38;5;129;01mis\u001b[39;00m \u001b[38;5;129;01mnot\u001b[39;00m \u001b[38;5;28;01mNone\u001b[39;00m \u001b[38;5;28;01melse\u001b[39;00m \u001b[38;5;28;01mNone\u001b[39;00m\n\u001b[1;32m--> 229\u001b[0m outputs \u001b[38;5;241m=\u001b[39m \u001b[43m_infer_schema\u001b[49m\u001b[43m(\u001b[49m\u001b[43mmodel_output\u001b[49m\u001b[43m)\u001b[49m \u001b[38;5;28;01mif\u001b[39;00m model_output \u001b[38;5;129;01mis\u001b[39;00m \u001b[38;5;129;01mnot\u001b[39;00m \u001b[38;5;28;01mNone\u001b[39;00m \u001b[38;5;28;01melse\u001b[39;00m \u001b[38;5;28;01mNone\u001b[39;00m\n\u001b[0;32m    230\u001b[0m params \u001b[38;5;241m=\u001b[39m _infer_param_schema(params) \u001b[38;5;28;01mif\u001b[39;00m params \u001b[38;5;28;01melse\u001b[39;00m \u001b[38;5;28;01mNone\u001b[39;00m\n\u001b[0;32m    231\u001b[0m \u001b[38;5;28;01mreturn\u001b[39;00m ModelSignature(inputs, outputs, params)\n",
      "File \u001b[1;32m~\\anaconda3\\envs\\ciml\\lib\\site-packages\\mlflow\\types\\utils.py:380\u001b[0m, in \u001b[0;36m_infer_schema\u001b[1;34m(data)\u001b[0m\n\u001b[0;32m    362\u001b[0m     schema \u001b[38;5;241m=\u001b[39m Schema(\n\u001b[0;32m    363\u001b[0m         [\n\u001b[0;32m    364\u001b[0m             ColSpec(\n\u001b[1;32m   (...)\u001b[0m\n\u001b[0;32m    372\u001b[0m         ]\n\u001b[0;32m    373\u001b[0m     )\n\u001b[0;32m    374\u001b[0m \u001b[38;5;28;01melif\u001b[39;00m \u001b[38;5;28misinstance\u001b[39m(data, \u001b[38;5;28mlist\u001b[39m):\n\u001b[0;32m    375\u001b[0m     \u001b[38;5;66;03m# Assume list as a single column\u001b[39;00m\n\u001b[0;32m    376\u001b[0m     \u001b[38;5;66;03m# List[DataType]\u001b[39;00m\n\u001b[0;32m    377\u001b[0m     \u001b[38;5;66;03m# e.g. ['some sentence', 'some sentence'] -> Schema([ColSpec(type=DataType.string)])\u001b[39;00m\n\u001b[0;32m    378\u001b[0m     \u001b[38;5;66;03m# The corresponding pandas DataFrame representation should be pd.DataFrame(data)\u001b[39;00m\n\u001b[0;32m    379\u001b[0m     \u001b[38;5;66;03m# We set required=True as unnamed optional inputs is not allowed\u001b[39;00m\n\u001b[1;32m--> 380\u001b[0m     schema \u001b[38;5;241m=\u001b[39m Schema([ColSpec(\u001b[43m_infer_colspec_type\u001b[49m\u001b[43m(\u001b[49m\u001b[43mdata\u001b[49m\u001b[43m)\u001b[49m\u001b[38;5;241m.\u001b[39mdtype)])\n\u001b[0;32m    381\u001b[0m \u001b[38;5;28;01melse\u001b[39;00m:\n\u001b[0;32m    382\u001b[0m     \u001b[38;5;66;03m# DataType\u001b[39;00m\n\u001b[0;32m    383\u001b[0m     \u001b[38;5;66;03m# e.g. \"some sentence\" -> Schema([ColSpec(type=DataType.string)])\u001b[39;00m\n\u001b[0;32m    384\u001b[0m     \u001b[38;5;28;01mtry\u001b[39;00m:\n\u001b[0;32m    385\u001b[0m         \u001b[38;5;66;03m# We set required=True as unnamed optional inputs is not allowed\u001b[39;00m\n",
      "File \u001b[1;32m~\\anaconda3\\envs\\ciml\\lib\\site-packages\\mlflow\\types\\utils.py:99\u001b[0m, in \u001b[0;36m_infer_colspec_type\u001b[1;34m(data)\u001b[0m\n\u001b[0;32m     89\u001b[0m \u001b[38;5;28;01mdef\u001b[39;00m \u001b[38;5;21m_infer_colspec_type\u001b[39m(data: Any) \u001b[38;5;241m-\u001b[39m\u001b[38;5;241m>\u001b[39m Union[DataType, Array, Object]:\n\u001b[0;32m     90\u001b[0m \u001b[38;5;250m    \u001b[39m\u001b[38;5;124;03m\"\"\"\u001b[39;00m\n\u001b[0;32m     91\u001b[0m \u001b[38;5;124;03m    Infer an MLflow Colspec type from the dataset.\u001b[39;00m\n\u001b[0;32m     92\u001b[0m \n\u001b[1;32m   (...)\u001b[0m\n\u001b[0;32m     97\u001b[0m \u001b[38;5;124;03m        Object\u001b[39;00m\n\u001b[0;32m     98\u001b[0m \u001b[38;5;124;03m    \"\"\"\u001b[39;00m\n\u001b[1;32m---> 99\u001b[0m     dtype \u001b[38;5;241m=\u001b[39m \u001b[43m_infer_datatype\u001b[49m\u001b[43m(\u001b[49m\u001b[43mdata\u001b[49m\u001b[43m)\u001b[49m\n\u001b[0;32m    101\u001b[0m     \u001b[38;5;66;03m# Currently only input that gives None is nested list whose items are all empty e.g. [[], []],\u001b[39;00m\n\u001b[0;32m    102\u001b[0m     \u001b[38;5;66;03m# because flat empty list [] has special handlign logic in _infer_schema\u001b[39;00m\n\u001b[0;32m    103\u001b[0m     \u001b[38;5;28;01mif\u001b[39;00m dtype \u001b[38;5;129;01mis\u001b[39;00m \u001b[38;5;28;01mNone\u001b[39;00m:\n",
      "File \u001b[1;32m~\\anaconda3\\envs\\ciml\\lib\\site-packages\\mlflow\\types\\utils.py:122\u001b[0m, in \u001b[0;36m_infer_datatype\u001b[1;34m(data)\u001b[0m\n\u001b[0;32m    119\u001b[0m     \u001b[38;5;28;01mreturn\u001b[39;00m Object(properties\u001b[38;5;241m=\u001b[39mproperties)\n\u001b[0;32m    121\u001b[0m \u001b[38;5;28;01mif\u001b[39;00m \u001b[38;5;28misinstance\u001b[39m(data, (\u001b[38;5;28mlist\u001b[39m, np\u001b[38;5;241m.\u001b[39mndarray)):\n\u001b[1;32m--> 122\u001b[0m     \u001b[38;5;28;01mreturn\u001b[39;00m \u001b[43m_infer_array_datatype\u001b[49m\u001b[43m(\u001b[49m\u001b[43mdata\u001b[49m\u001b[43m)\u001b[49m\n\u001b[0;32m    124\u001b[0m \u001b[38;5;28;01mreturn\u001b[39;00m _infer_scalar_datatype(data)\n",
      "File \u001b[1;32m~\\anaconda3\\envs\\ciml\\lib\\site-packages\\mlflow\\types\\utils.py:151\u001b[0m, in \u001b[0;36m_infer_array_datatype\u001b[1;34m(data)\u001b[0m\n\u001b[0;32m    148\u001b[0m \u001b[38;5;28;01mif\u001b[39;00m _is_none_or_nan(item):\n\u001b[0;32m    149\u001b[0m     \u001b[38;5;28;01mcontinue\u001b[39;00m\n\u001b[1;32m--> 151\u001b[0m dtype \u001b[38;5;241m=\u001b[39m \u001b[43m_infer_datatype\u001b[49m\u001b[43m(\u001b[49m\u001b[43mitem\u001b[49m\u001b[43m)\u001b[49m\n\u001b[0;32m    153\u001b[0m \u001b[38;5;66;03m# Skip item with undetermined type\u001b[39;00m\n\u001b[0;32m    154\u001b[0m \u001b[38;5;28;01mif\u001b[39;00m dtype \u001b[38;5;129;01mis\u001b[39;00m \u001b[38;5;28;01mNone\u001b[39;00m:\n",
      "File \u001b[1;32m~\\anaconda3\\envs\\ciml\\lib\\site-packages\\mlflow\\types\\utils.py:122\u001b[0m, in \u001b[0;36m_infer_datatype\u001b[1;34m(data)\u001b[0m\n\u001b[0;32m    119\u001b[0m     \u001b[38;5;28;01mreturn\u001b[39;00m Object(properties\u001b[38;5;241m=\u001b[39mproperties)\n\u001b[0;32m    121\u001b[0m \u001b[38;5;28;01mif\u001b[39;00m \u001b[38;5;28misinstance\u001b[39m(data, (\u001b[38;5;28mlist\u001b[39m, np\u001b[38;5;241m.\u001b[39mndarray)):\n\u001b[1;32m--> 122\u001b[0m     \u001b[38;5;28;01mreturn\u001b[39;00m \u001b[43m_infer_array_datatype\u001b[49m\u001b[43m(\u001b[49m\u001b[43mdata\u001b[49m\u001b[43m)\u001b[49m\n\u001b[0;32m    124\u001b[0m \u001b[38;5;28;01mreturn\u001b[39;00m _infer_scalar_datatype(data)\n",
      "File \u001b[1;32m~\\anaconda3\\envs\\ciml\\lib\\site-packages\\mlflow\\types\\utils.py:151\u001b[0m, in \u001b[0;36m_infer_array_datatype\u001b[1;34m(data)\u001b[0m\n\u001b[0;32m    148\u001b[0m \u001b[38;5;28;01mif\u001b[39;00m _is_none_or_nan(item):\n\u001b[0;32m    149\u001b[0m     \u001b[38;5;28;01mcontinue\u001b[39;00m\n\u001b[1;32m--> 151\u001b[0m dtype \u001b[38;5;241m=\u001b[39m \u001b[43m_infer_datatype\u001b[49m\u001b[43m(\u001b[49m\u001b[43mitem\u001b[49m\u001b[43m)\u001b[49m\n\u001b[0;32m    153\u001b[0m \u001b[38;5;66;03m# Skip item with undetermined type\u001b[39;00m\n\u001b[0;32m    154\u001b[0m \u001b[38;5;28;01mif\u001b[39;00m dtype \u001b[38;5;129;01mis\u001b[39;00m \u001b[38;5;28;01mNone\u001b[39;00m:\n",
      "    \u001b[1;31m[... skipping similar frames: _infer_array_datatype at line 151 (2 times), _infer_datatype at line 122 (2 times)]\u001b[0m\n",
      "File \u001b[1;32m~\\anaconda3\\envs\\ciml\\lib\\site-packages\\mlflow\\types\\utils.py:122\u001b[0m, in \u001b[0;36m_infer_datatype\u001b[1;34m(data)\u001b[0m\n\u001b[0;32m    119\u001b[0m     \u001b[38;5;28;01mreturn\u001b[39;00m Object(properties\u001b[38;5;241m=\u001b[39mproperties)\n\u001b[0;32m    121\u001b[0m \u001b[38;5;28;01mif\u001b[39;00m \u001b[38;5;28misinstance\u001b[39m(data, (\u001b[38;5;28mlist\u001b[39m, np\u001b[38;5;241m.\u001b[39mndarray)):\n\u001b[1;32m--> 122\u001b[0m     \u001b[38;5;28;01mreturn\u001b[39;00m \u001b[43m_infer_array_datatype\u001b[49m\u001b[43m(\u001b[49m\u001b[43mdata\u001b[49m\u001b[43m)\u001b[49m\n\u001b[0;32m    124\u001b[0m \u001b[38;5;28;01mreturn\u001b[39;00m _infer_scalar_datatype(data)\n",
      "File \u001b[1;32m~\\anaconda3\\envs\\ciml\\lib\\site-packages\\mlflow\\types\\utils.py:151\u001b[0m, in \u001b[0;36m_infer_array_datatype\u001b[1;34m(data)\u001b[0m\n\u001b[0;32m    148\u001b[0m \u001b[38;5;28;01mif\u001b[39;00m _is_none_or_nan(item):\n\u001b[0;32m    149\u001b[0m     \u001b[38;5;28;01mcontinue\u001b[39;00m\n\u001b[1;32m--> 151\u001b[0m dtype \u001b[38;5;241m=\u001b[39m \u001b[43m_infer_datatype\u001b[49m\u001b[43m(\u001b[49m\u001b[43mitem\u001b[49m\u001b[43m)\u001b[49m\n\u001b[0;32m    153\u001b[0m \u001b[38;5;66;03m# Skip item with undetermined type\u001b[39;00m\n\u001b[0;32m    154\u001b[0m \u001b[38;5;28;01mif\u001b[39;00m dtype \u001b[38;5;129;01mis\u001b[39;00m \u001b[38;5;28;01mNone\u001b[39;00m:\n",
      "File \u001b[1;32m~\\anaconda3\\envs\\ciml\\lib\\site-packages\\mlflow\\types\\utils.py:124\u001b[0m, in \u001b[0;36m_infer_datatype\u001b[1;34m(data)\u001b[0m\n\u001b[0;32m    121\u001b[0m \u001b[38;5;28;01mif\u001b[39;00m \u001b[38;5;28misinstance\u001b[39m(data, (\u001b[38;5;28mlist\u001b[39m, np\u001b[38;5;241m.\u001b[39mndarray)):\n\u001b[0;32m    122\u001b[0m     \u001b[38;5;28;01mreturn\u001b[39;00m _infer_array_datatype(data)\n\u001b[1;32m--> 124\u001b[0m \u001b[38;5;28;01mreturn\u001b[39;00m \u001b[43m_infer_scalar_datatype\u001b[49m\u001b[43m(\u001b[49m\u001b[43mdata\u001b[49m\u001b[43m)\u001b[49m\n",
      "File \u001b[1;32m~\\anaconda3\\envs\\ciml\\lib\\site-packages\\mlflow\\types\\utils.py:179\u001b[0m, in \u001b[0;36m_infer_scalar_datatype\u001b[1;34m(data)\u001b[0m\n\u001b[0;32m    178\u001b[0m \u001b[38;5;28;01mdef\u001b[39;00m \u001b[38;5;21m_infer_scalar_datatype\u001b[39m(data) \u001b[38;5;241m-\u001b[39m\u001b[38;5;241m>\u001b[39m DataType:\n\u001b[1;32m--> 179\u001b[0m     \u001b[38;5;28;01mif\u001b[39;00m \u001b[43mDataType\u001b[49m\u001b[38;5;241;43m.\u001b[39;49m\u001b[43mis_boolean\u001b[49m\u001b[43m(\u001b[49m\u001b[43mdata\u001b[49m\u001b[43m)\u001b[49m:\n\u001b[0;32m    180\u001b[0m         \u001b[38;5;28;01mreturn\u001b[39;00m DataType\u001b[38;5;241m.\u001b[39mboolean\n\u001b[0;32m    181\u001b[0m     \u001b[38;5;66;03m# Order of is_long & is_integer matters\u001b[39;00m\n\u001b[0;32m    182\u001b[0m     \u001b[38;5;66;03m# as both of their python_types are int\u001b[39;00m\n",
      "File \u001b[1;32m~\\anaconda3\\envs\\ciml\\lib\\site-packages\\mlflow\\types\\schema.py:91\u001b[0m, in \u001b[0;36mDataType.is_boolean\u001b[1;34m(cls, value)\u001b[0m\n\u001b[0;32m     89\u001b[0m \u001b[38;5;129m@classmethod\u001b[39m\n\u001b[0;32m     90\u001b[0m \u001b[38;5;28;01mdef\u001b[39;00m \u001b[38;5;21mis_boolean\u001b[39m(\u001b[38;5;28mcls\u001b[39m, value):\n\u001b[1;32m---> 91\u001b[0m     \u001b[38;5;28;01mreturn\u001b[39;00m \u001b[38;5;28mtype\u001b[39m(value) \u001b[38;5;129;01min\u001b[39;00m \u001b[43mDataType\u001b[49m\u001b[38;5;241;43m.\u001b[39;49m\u001b[43mboolean\u001b[49m\u001b[38;5;241;43m.\u001b[39;49m\u001b[43mget_all_types\u001b[49m\u001b[43m(\u001b[49m\u001b[43m)\u001b[49m\n",
      "File \u001b[1;32m~\\anaconda3\\envs\\ciml\\lib\\site-packages\\mlflow\\types\\schema.py:123\u001b[0m, in \u001b[0;36mDataType.get_all_types\u001b[1;34m(self)\u001b[0m\n\u001b[0;32m    121\u001b[0m \u001b[38;5;28;01mdef\u001b[39;00m \u001b[38;5;21mget_all_types\u001b[39m(\u001b[38;5;28mself\u001b[39m):\n\u001b[0;32m    122\u001b[0m     types \u001b[38;5;241m=\u001b[39m [\u001b[38;5;28mself\u001b[39m\u001b[38;5;241m.\u001b[39mto_numpy(), \u001b[38;5;28mself\u001b[39m\u001b[38;5;241m.\u001b[39mto_pandas(), \u001b[38;5;28mself\u001b[39m\u001b[38;5;241m.\u001b[39mto_python()]\n\u001b[1;32m--> 123\u001b[0m     \u001b[38;5;28;01mif\u001b[39;00m \u001b[43mimportlib\u001b[49m\u001b[38;5;241;43m.\u001b[39;49m\u001b[43mutil\u001b[49m\u001b[38;5;241;43m.\u001b[39;49m\u001b[43mfind_spec\u001b[49m\u001b[43m(\u001b[49m\u001b[38;5;124;43m\"\u001b[39;49m\u001b[38;5;124;43mpyspark\u001b[39;49m\u001b[38;5;124;43m\"\u001b[39;49m\u001b[43m)\u001b[49m \u001b[38;5;129;01mis\u001b[39;00m \u001b[38;5;129;01mnot\u001b[39;00m \u001b[38;5;28;01mNone\u001b[39;00m:\n\u001b[0;32m    124\u001b[0m         types\u001b[38;5;241m.\u001b[39mappend(\u001b[38;5;28mself\u001b[39m\u001b[38;5;241m.\u001b[39mto_spark())\n\u001b[0;32m    125\u001b[0m     \u001b[38;5;28;01mif\u001b[39;00m \u001b[38;5;28mself\u001b[39m\u001b[38;5;241m.\u001b[39mname \u001b[38;5;241m==\u001b[39m \u001b[38;5;124m\"\u001b[39m\u001b[38;5;124mdatetime\u001b[39m\u001b[38;5;124m\"\u001b[39m:\n",
      "File \u001b[1;32m~\\anaconda3\\envs\\ciml\\lib\\importlib\\util.py:103\u001b[0m, in \u001b[0;36mfind_spec\u001b[1;34m(name, package)\u001b[0m\n\u001b[0;32m    101\u001b[0m     \u001b[38;5;28;01melse\u001b[39;00m:\n\u001b[0;32m    102\u001b[0m         parent_path \u001b[38;5;241m=\u001b[39m \u001b[38;5;28;01mNone\u001b[39;00m\n\u001b[1;32m--> 103\u001b[0m     \u001b[38;5;28;01mreturn\u001b[39;00m \u001b[43m_find_spec\u001b[49m\u001b[43m(\u001b[49m\u001b[43mfullname\u001b[49m\u001b[43m,\u001b[49m\u001b[43m \u001b[49m\u001b[43mparent_path\u001b[49m\u001b[43m)\u001b[49m\n\u001b[0;32m    104\u001b[0m \u001b[38;5;28;01melse\u001b[39;00m:\n\u001b[0;32m    105\u001b[0m     module \u001b[38;5;241m=\u001b[39m sys\u001b[38;5;241m.\u001b[39mmodules[fullname]\n",
      "File \u001b[1;32m<frozen importlib._bootstrap>:914\u001b[0m, in \u001b[0;36m_find_spec\u001b[1;34m(name, path, target)\u001b[0m\n",
      "File \u001b[1;32m<frozen importlib._bootstrap_external>:1407\u001b[0m, in \u001b[0;36mfind_spec\u001b[1;34m(cls, fullname, path, target)\u001b[0m\n",
      "File \u001b[1;32m<frozen importlib._bootstrap_external>:1379\u001b[0m, in \u001b[0;36m_get_spec\u001b[1;34m(cls, fullname, path, target)\u001b[0m\n",
      "File \u001b[1;32m<frozen importlib._bootstrap_external>:1534\u001b[0m, in \u001b[0;36mfind_spec\u001b[1;34m(self, fullname, target)\u001b[0m\n",
      "File \u001b[1;32m<frozen importlib._bootstrap_external>:99\u001b[0m, in \u001b[0;36m_path_join\u001b[1;34m(*path_parts)\u001b[0m\n",
      "\u001b[1;31mKeyboardInterrupt\u001b[0m: "
     ]
    }
   ],
   "source": [
    "optimal_params = {\n",
    "    \"num_layers\": 3,\n",
    "    \"filters_0\": 39,\n",
    "    \"filters_1\": 105,\n",
    "    \"filters_2\": 21,\n",
    "    \"activation_function\": \"relu\"\n",
    "}\n",
    "\n",
    "deployed_model = deployed_model_workflow(train_val_images, train_val_labels, test_images, test_labels, optimal_params)\n"
   ]
  },
  {
   "cell_type": "code",
   "execution_count": null,
   "id": "9278c550-4f42-4b3b-86ab-87dd19ae5ab0",
   "metadata": {},
   "outputs": [],
   "source": []
  },
  {
   "cell_type": "code",
   "execution_count": null,
   "id": "f0380a70-c393-41fe-abe1-8259f1897f24",
   "metadata": {},
   "outputs": [],
   "source": []
  },
  {
   "cell_type": "code",
   "execution_count": null,
   "id": "e79e5c9e-e3ae-442d-9a79-00db2f633e7b",
   "metadata": {},
   "outputs": [],
   "source": []
  },
  {
   "cell_type": "code",
   "execution_count": null,
   "id": "a49cab97-632a-4a5e-b3a5-91e20fe9d195",
   "metadata": {},
   "outputs": [],
   "source": []
  },
  {
   "cell_type": "code",
   "execution_count": null,
   "id": "36e9cf91-2f79-4f54-95e6-03690de27cab",
   "metadata": {},
   "outputs": [],
   "source": []
  },
  {
   "cell_type": "code",
   "execution_count": null,
   "id": "85da2712-b0fc-4e23-bb1f-1998fbfbace1",
   "metadata": {},
   "outputs": [],
   "source": []
  }
 ],
 "metadata": {
  "kernelspec": {
   "display_name": "Python 3 (ipykernel)",
   "language": "python",
   "name": "python3"
  },
  "language_info": {
   "codemirror_mode": {
    "name": "ipython",
    "version": 3
   },
   "file_extension": ".py",
   "mimetype": "text/x-python",
   "name": "python",
   "nbconvert_exporter": "python",
   "pygments_lexer": "ipython3",
   "version": "3.8.20"
  }
 },
 "nbformat": 4,
 "nbformat_minor": 5
}
