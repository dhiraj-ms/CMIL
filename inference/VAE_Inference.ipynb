{
 "cells": [
  {
   "cell_type": "code",
   "execution_count": 1,
   "id": "7bb8d98a-5f37-4d1b-b123-1f910eabc99b",
   "metadata": {
    "editable": true,
    "slideshow": {
     "slide_type": ""
    },
    "tags": []
   },
   "outputs": [
    {
     "data": {
      "text/plain": [
       "'C:\\\\Users\\\\admin\\\\Downloads'"
      ]
     },
     "execution_count": 1,
     "metadata": {},
     "output_type": "execute_result"
    }
   ],
   "source": [
    "pwd"
   ]
  },
  {
   "cell_type": "code",
   "execution_count": 15,
   "id": "838d4de6-3f67-4419-b7e7-d1f378e89e41",
   "metadata": {},
   "outputs": [],
   "source": [
    "import os\n",
    "import pandas as pd\n",
    "import numpy as np\n",
    "import cv2\n",
    "from keras import backend as K\n",
    "from keras.layers import Input, Dense, Lambda, Convolution2D, MaxPooling2D, GlobalAveragePooling2D, UpSampling2D, Reshape, Flatten\n",
    "from keras.models import Model\n",
    "from keras.utils import to_categorical\n",
    "from sklearn.model_selection import StratifiedShuffleSplit, StratifiedKFold\n",
    "from sklearn.metrics import precision_score, recall_score, f1_score, roc_auc_score\n",
    "from sklearn.utils import class_weight\n",
    "import tensorflow as tf\n",
    "import optuna\n",
    "import mlflow\n",
    "from mlflow.models import infer_signature\n",
    "import matplotlib.pyplot as plt\n",
    "from sklearn.metrics import classification_report"
   ]
  },
  {
   "cell_type": "code",
   "execution_count": 6,
   "id": "0f75224f-9899-43f7-b606-05098ad0c6f6",
   "metadata": {},
   "outputs": [],
   "source": [
    "# Load and preprocess the dataset\n",
    "def image_preprocessing():\n",
    "    sclerotic_folder_path = \"public/public/globally_sclerotic_glomeruli\"\n",
    "    non_sclerotic_folder_path = \"public/public/non_globally_sclerotic_glomeruli\"\n",
    "    groundtruth_file_path = \"public/public/public.csv\"\n",
    "    groundtruth_df = pd.read_csv(groundtruth_file_path)\n",
    "    images = []\n",
    "    labels = []\n",
    "\n",
    "    for row in groundtruth_df.itertuples(index=False):\n",
    "        label = row[1]\n",
    "        filename = row[0]\n",
    "        if label == 1:\n",
    "            image_path = os.path.join(sclerotic_folder_path, filename)\n",
    "        else:\n",
    "            image_path = os.path.join(non_sclerotic_folder_path, filename)\n",
    "        image = cv2.imread(image_path)\n",
    "        image = cv2.resize(image, (224, 224))  \n",
    "        image = image / 255.0  \n",
    "        images.append(image)\n",
    "        labels.append(label)\n",
    "        \n",
    "    images = np.array(images)\n",
    "    labels = np.array(labels)\n",
    "    \n",
    "    # Split the dataset into train and test sets\n",
    "    strat_split = StratifiedShuffleSplit(n_splits=1, test_size=0.2, random_state=42)\n",
    "    train_val_idx, test_idx = next(strat_split.split(images, labels))\n",
    "    train_val_images, test_images = images[train_val_idx], images[test_idx]\n",
    "    train_val_labels, test_labels = labels[train_val_idx], labels[test_idx]\n",
    "\n",
    "    return train_val_images, train_val_labels, test_images, test_labels"
   ]
  },
  {
   "cell_type": "code",
   "execution_count": 7,
   "id": "8e95c4f5-a260-43f9-9ec2-6a9766f215a5",
   "metadata": {},
   "outputs": [
    {
     "data": {
      "text/plain": [
       "'C:\\\\Users\\\\admin\\\\Downloads'"
      ]
     },
     "execution_count": 7,
     "metadata": {},
     "output_type": "execute_result"
    }
   ],
   "source": [
    "pwd"
   ]
  },
  {
   "cell_type": "code",
   "execution_count": 8,
   "id": "1876837e-e04c-4338-996c-ae0230c68a9a",
   "metadata": {
    "editable": true,
    "slideshow": {
     "slide_type": ""
    },
    "tags": []
   },
   "outputs": [],
   "source": [
    "train_val_images, train_val_labels, test_images, test_labels = image_preprocessing()"
   ]
  },
  {
   "cell_type": "code",
   "execution_count": 9,
   "id": "bd0d525e-7dbe-435d-8ef3-bcc345a653fd",
   "metadata": {
    "editable": true,
    "slideshow": {
     "slide_type": ""
    },
    "tags": []
   },
   "outputs": [],
   "source": [
    "# Create the Encoder-Decoder model\n",
    "def encoder_decoder(num_layers, activation_function, filter_counts, latent_dimension=3):\n",
    "    input_layer = Input(shape=(224, 224, 3))\n",
    "    x = input_layer\n",
    "\n",
    "    # Encoder\n",
    "    for i in range(num_layers):\n",
    "        x = Convolution2D(filters=filter_counts[i], kernel_size=(3, 3), padding=\"same\", activation=activation_function)(x)\n",
    "        if i < num_layers - 1:\n",
    "            x = MaxPooling2D((2, 2), padding='same')(x)\n",
    "\n",
    "    shape_before_flattening = K.int_shape(x)  \n",
    "    x = Flatten()(x)  \n",
    "    z_mean = Dense(latent_dimension, name='z_mean')(x)\n",
    "    z_log_var = Dense(latent_dimension, name='z_log_var')(x)\n",
    "    z = Lambda(sampling, name='sampling')([z_mean, z_log_var])\n",
    "\n",
    "    encoder = Model(input_layer, [z_mean, z_log_var, z], name='encoder')\n",
    "\n",
    "    # Decoder\n",
    "    decoder_input = Input(shape=(latent_dimension,))\n",
    "    x = Dense(np.prod(shape_before_flattening[1:]), activation=activation_function)(decoder_input)\n",
    "    x = Reshape((shape_before_flattening[1], shape_before_flattening[2], shape_before_flattening[3]))(x)  \n",
    "\n",
    "    \n",
    "    for i in reversed(range(num_layers - 1)):\n",
    "        x = Convolution2D(filters=filter_counts[i], kernel_size=(3, 3), padding=\"same\", activation=activation_function)(x)\n",
    "        x = UpSampling2D((2, 2))(x)\n",
    "\n",
    "    output_layer = Convolution2D(3, (3, 3), padding='same', activation='sigmoid')(x)\n",
    "    decoder = Model(decoder_input, output_layer, name='decoder')\n",
    "\n",
    "    # Classifier model\n",
    "    z_decoded = decoder(z)\n",
    "    classification_output = Dense(2, activation='softmax', name='classification_output')(z)\n",
    "    vae_model = Model(input_layer, [classification_output, z_decoded], name='vae')\n",
    "\n",
    "    return vae_model, encoder, decoder\n"
   ]
  },
  {
   "cell_type": "code",
   "execution_count": 10,
   "id": "337eb9c1-c9e9-4551-a9e8-4e8c7bd7e09d",
   "metadata": {},
   "outputs": [],
   "source": [
    "# Sampling function for eager execution compatibility\n",
    "def sampling(args):\n",
    "    z_mean, z_log_var = args\n",
    "    batch = tf.shape(z_mean)[0]\n",
    "    dim = tf.shape(z_mean)[1]\n",
    "    epsilon = tf.random.normal(shape=(batch, dim))\n",
    "    return z_mean + tf.exp(0.5 * z_log_var) * epsilon"
   ]
  },
  {
   "cell_type": "code",
   "execution_count": 11,
   "id": "d4413cfb-b36b-49bf-bb3a-a6689250906f",
   "metadata": {
    "editable": true,
    "slideshow": {
     "slide_type": ""
    },
    "tags": []
   },
   "outputs": [],
   "source": [
    "# Computing the VAE loss\n",
    "def vae_loss(inputs, decoded_output, z_mean, z_log_var):\n",
    "    reconstruction_loss = tf.reduce_sum(tf.keras.losses.binary_crossentropy(inputs, decoded_output), axis=(1, 2))\n",
    "    kl_loss = -0.5 * tf.reduce_sum(1 + z_log_var - tf.square(z_mean) - tf.exp(z_log_var), axis=1)\n",
    "    return tf.reduce_mean(reconstruction_loss + kl_loss)"
   ]
  },
  {
   "cell_type": "code",
   "execution_count": 12,
   "id": "5962dc93-5333-41c7-aeb4-8cfe56a58001",
   "metadata": {
    "editable": true,
    "slideshow": {
     "slide_type": ""
    },
    "tags": []
   },
   "outputs": [],
   "source": [
    "def vae_loss_parameters(z_mean, z_log_var):\n",
    "    def loss(inputs, decoded_output):\n",
    "        return vae_loss(inputs, decoded_output, z_mean, z_log_var)\n",
    "    return loss"
   ]
  },
  {
   "cell_type": "code",
   "execution_count": 13,
   "id": "73023e38-c820-4234-ac86-f40f9f9c4f1e",
   "metadata": {
    "editable": true,
    "slideshow": {
     "slide_type": ""
    },
    "tags": []
   },
   "outputs": [],
   "source": [
    "# Rebuild the vae model architecture\n",
    "def buildvae_model():\n",
    "    optimal_params = {\n",
    "        \"num_layers\": 3,\n",
    "        \"filters_0\": 39,\n",
    "        \"filters_1\": 105,\n",
    "        \"filters_2\": 21,\n",
    "        \"activation_function\": \"relu\"\n",
    "    }\n",
    "    \n",
    "    \n",
    "    vae_model, encoder, decoder = encoder_decoder(\n",
    "        num_layers=optimal_params[\"num_layers\"],\n",
    "        activation_function=optimal_params[\"activation_function\"],\n",
    "        filter_counts=[optimal_params[f\"filters_{i}\"] for i in range(optimal_params[\"num_layers\"])]\n",
    "    )\n",
    "    \n",
    "    \n",
    "    z_mean, z_log_var, _ = encoder.output\n",
    "    vae_model.compile(optimizer=\"adam\", \n",
    "                      loss={'classification_output': 'categorical_crossentropy', \n",
    "                            'decoder': vae_loss_parameters(z_mean, z_log_var)},\n",
    "                      metrics={'classification_output': ['accuracy', \n",
    "                                                         tf.keras.metrics.Precision(name='precision'), \n",
    "                                                         tf.keras.metrics.Recall(name='recall'), \n",
    "                                                         tf.keras.metrics.AUC(name='auc')]})\n",
    "    return vae_model\n",
    "\n",
    "\n",
    "model = buildvae_model()\n",
    "\n",
    "model.load_weights('best_deployed_vae_model.h5')"
   ]
  },
  {
   "cell_type": "code",
   "execution_count": 16,
   "id": "86ce1992-77c8-4bb5-9843-f397460a2eb5",
   "metadata": {},
   "outputs": [
    {
     "name": "stdout",
     "output_type": "stream",
     "text": [
      "              precision    recall  f1-score   support\n",
      "\n",
      "           0       0.84      0.98      0.91       941\n",
      "           1       0.69      0.17      0.27       211\n",
      "\n",
      "    accuracy                           0.83      1152\n",
      "   macro avg       0.77      0.58      0.59      1152\n",
      "weighted avg       0.81      0.83      0.79      1152\n",
      "\n"
     ]
    }
   ],
   "source": [
    "predictions = model.predict(test_images)\n",
    "\n",
    "\n",
    "classification_output = predictions[0] \n",
    "\n",
    "\n",
    "predicted_labels = np.argmax(classification_output, axis=1)\n",
    "\n",
    "\n",
    "report = classification_report(test_labels, predicted_labels)\n",
    "print(report)"
   ]
  },
  {
   "cell_type": "code",
   "execution_count": null,
   "id": "6c01579e-8deb-498e-a182-84cda987e862",
   "metadata": {},
   "outputs": [],
   "source": []
  },
  {
   "cell_type": "code",
   "execution_count": null,
   "id": "40243f96-a1b8-4c21-b774-9baa051b60f4",
   "metadata": {
    "editable": true,
    "slideshow": {
     "slide_type": ""
    },
    "tags": []
   },
   "outputs": [],
   "source": []
  },
  {
   "cell_type": "code",
   "execution_count": null,
   "id": "7eb56fdc-43df-461e-b740-992beb28008c",
   "metadata": {},
   "outputs": [],
   "source": []
  },
  {
   "cell_type": "code",
   "execution_count": null,
   "id": "7c8c7db7-d0a8-40c6-933d-8035ef882ebb",
   "metadata": {},
   "outputs": [],
   "source": []
  },
  {
   "cell_type": "code",
   "execution_count": null,
   "id": "6b317a42-f7e6-4bc5-a9ce-e86c9c97575b",
   "metadata": {},
   "outputs": [],
   "source": []
  },
  {
   "cell_type": "code",
   "execution_count": null,
   "id": "a1e6e126-892e-4158-9f89-ff2d83965f43",
   "metadata": {
    "editable": true,
    "slideshow": {
     "slide_type": ""
    },
    "tags": []
   },
   "outputs": [],
   "source": []
  }
 ],
 "metadata": {
  "kernelspec": {
   "display_name": "Python 3 (ipykernel)",
   "language": "python",
   "name": "python3"
  },
  "language_info": {
   "codemirror_mode": {
    "name": "ipython",
    "version": 3
   },
   "file_extension": ".py",
   "mimetype": "text/x-python",
   "name": "python",
   "nbconvert_exporter": "python",
   "pygments_lexer": "ipython3",
   "version": "3.8.20"
  }
 },
 "nbformat": 4,
 "nbformat_minor": 5
}
