{
 "cells": [
  {
   "cell_type": "code",
   "execution_count": 22,
   "id": "25ffe066-8d31-4508-a25d-24c5818bf500",
   "metadata": {},
   "outputs": [],
   "source": [
    "import tensorflow as tf\n",
    "from tensorflow.keras import layers, models\n",
    "from tensorflow.keras.applications import VGG16\n",
    "from tensorflow.keras.preprocessing.image import ImageDataGenerator\n",
    "from tensorflow.keras.optimizers import Adam\n",
    "from tensorflow.keras.callbacks import EarlyStopping\n",
    "import pandas as pd\n",
    "import tensorflow as tf\n",
    "from sklearn.model_selection import train_test_split\n",
    "from tensorflow.keras.preprocessing.image import ImageDataGenerator\n",
    "from tensorflow.keras.applications import VGG16\n",
    "from tensorflow.keras.optimizers import Adam\n",
    "import pandas as pd\n",
    "import os\n",
    "import splitfolders\n",
    "import shutil\n",
    "from sklearn.metrics import classification_report\n",
    "import numpy as np\n",
    "from tensorflow.keras.models import load_model"
   ]
  },
  {
   "cell_type": "code",
   "execution_count": 15,
   "id": "30e47990-8e33-48fa-8ef1-6bc98088c9cb",
   "metadata": {},
   "outputs": [],
   "source": [
    "image_size = (224, 224) \n",
    "batch_size = 32\n",
    "epochs = 50\n",
    "num_classes = 2"
   ]
  },
  {
   "cell_type": "code",
   "execution_count": 16,
   "id": "fbfd4341-27d6-4a9c-a7e6-2582838ce492",
   "metadata": {},
   "outputs": [
    {
     "name": "stdout",
     "output_type": "stream",
     "text": [
      "Found 577 images belonging to 2 classes.\n"
     ]
    }
   ],
   "source": [
    "test_dir = 'output_split/test'  #path of test directory\n",
    "\n",
    "val_test_datagen = ImageDataGenerator(rescale=1.0/255.0)\n",
    "\n",
    "test_generator = val_test_datagen.flow_from_directory(\n",
    "    test_dir,\n",
    "    target_size=image_size,\n",
    "    batch_size=batch_size,\n",
    "    class_mode='categorical',\n",
    "    shuffle=False,\n",
    "    classes={'non_globally_sclerotic_glomeruli': 0, 'globally_sclerotic_glomeruli': 1}  \n",
    ")"
   ]
  },
  {
   "cell_type": "code",
   "execution_count": 17,
   "id": "1776c90c-ff1f-4767-a498-91559c58639c",
   "metadata": {},
   "outputs": [],
   "source": [
    "vgg16_model = load_model('vgg16_model.h5')"
   ]
  },
  {
   "cell_type": "code",
   "execution_count": 18,
   "id": "0a0f15ca-cd78-4a99-ac13-11420e0efd7f",
   "metadata": {},
   "outputs": [],
   "source": [
    "predictions = vgg16_model.predict(test_generator)"
   ]
  },
  {
   "cell_type": "code",
   "execution_count": 19,
   "id": "27183da3-b281-4089-ac6e-2b8cf9672740",
   "metadata": {},
   "outputs": [],
   "source": [
    "predicted_labels = np.argmax(predictions, axis=1)"
   ]
  },
  {
   "cell_type": "code",
   "execution_count": 20,
   "id": "2802f162-075b-40cd-89e8-0fa86fdc41e1",
   "metadata": {},
   "outputs": [],
   "source": [
    "true_labels = test_generator.classes"
   ]
  },
  {
   "cell_type": "code",
   "execution_count": 21,
   "id": "5cb24764-3657-46a4-bd34-13e7c9e1586e",
   "metadata": {},
   "outputs": [
    {
     "name": "stdout",
     "output_type": "stream",
     "text": [
      "              precision    recall  f1-score   support\n",
      "\n",
      "           0       0.98      0.99      0.98       471\n",
      "           1       0.95      0.90      0.92       106\n",
      "\n",
      "    accuracy                           0.97       577\n",
      "   macro avg       0.96      0.94      0.95       577\n",
      "weighted avg       0.97      0.97      0.97       577\n",
      "\n"
     ]
    }
   ],
   "source": [
    "report = classification_report(true_labels, predicted_labels)\n",
    "print(report)"
   ]
  },
  {
   "cell_type": "code",
   "execution_count": null,
   "id": "a5ec8a24-fa70-44b2-b79a-d3fba21671bb",
   "metadata": {},
   "outputs": [],
   "source": []
  }
 ],
 "metadata": {
  "kernelspec": {
   "display_name": "Python 3 (ipykernel)",
   "language": "python",
   "name": "python3"
  },
  "language_info": {
   "codemirror_mode": {
    "name": "ipython",
    "version": 3
   },
   "file_extension": ".py",
   "mimetype": "text/x-python",
   "name": "python",
   "nbconvert_exporter": "python",
   "pygments_lexer": "ipython3",
   "version": "3.8.20"
  }
 },
 "nbformat": 4,
 "nbformat_minor": 5
}
